{
  "nbformat": 4,
  "nbformat_minor": 0,
  "metadata": {
    "colab": {
      "name": "Residual MLP (Assignment 1) Group 5.ipynb",
      "provenance": [],
      "collapsed_sections": [
        "53LLftRopdr5",
        "YkSERPZJSTil",
        "bWDBn82Fblpg"
      ],
      "toc_visible": true
    },
    "kernelspec": {
      "name": "python3",
      "display_name": "Python 3"
    },
    "language_info": {
      "name": "python"
    },
    "accelerator": "GPU",
    "widgets": {
      "application/vnd.jupyter.widget-state+json": {
        "136eab87b0fc4085849457e21cfd8fdd": {
          "model_module": "@jupyter-widgets/controls",
          "model_name": "HBoxModel",
          "model_module_version": "1.5.0",
          "state": {
            "_view_name": "HBoxView",
            "_dom_classes": [],
            "_model_name": "HBoxModel",
            "_view_module": "@jupyter-widgets/controls",
            "_model_module_version": "1.5.0",
            "_view_count": null,
            "_view_module_version": "1.5.0",
            "box_style": "",
            "layout": "IPY_MODEL_ccb1668b0cf646eaaf59d8025580e699",
            "_model_module": "@jupyter-widgets/controls",
            "children": [
              "IPY_MODEL_9b8efdf42cc64ed98756f2ec98defef4",
              "IPY_MODEL_60976bae303445d18143995c9be229fb",
              "IPY_MODEL_f946f4ef882b4f36b8f1f4019061a6e4"
            ]
          }
        },
        "ccb1668b0cf646eaaf59d8025580e699": {
          "model_module": "@jupyter-widgets/base",
          "model_name": "LayoutModel",
          "model_module_version": "1.2.0",
          "state": {
            "_view_name": "LayoutView",
            "grid_template_rows": null,
            "right": null,
            "justify_content": null,
            "_view_module": "@jupyter-widgets/base",
            "overflow": null,
            "_model_module_version": "1.2.0",
            "_view_count": null,
            "flex_flow": null,
            "width": null,
            "min_width": null,
            "border": null,
            "align_items": null,
            "bottom": null,
            "_model_module": "@jupyter-widgets/base",
            "top": null,
            "grid_column": null,
            "overflow_y": null,
            "overflow_x": null,
            "grid_auto_flow": null,
            "grid_area": null,
            "grid_template_columns": null,
            "flex": null,
            "_model_name": "LayoutModel",
            "justify_items": null,
            "grid_row": null,
            "max_height": null,
            "align_content": null,
            "visibility": null,
            "align_self": null,
            "height": null,
            "min_height": null,
            "padding": null,
            "grid_auto_rows": null,
            "grid_gap": null,
            "max_width": null,
            "order": null,
            "_view_module_version": "1.2.0",
            "grid_template_areas": null,
            "object_position": null,
            "object_fit": null,
            "grid_auto_columns": null,
            "margin": null,
            "display": null,
            "left": null
          }
        },
        "9b8efdf42cc64ed98756f2ec98defef4": {
          "model_module": "@jupyter-widgets/controls",
          "model_name": "HTMLModel",
          "model_module_version": "1.5.0",
          "state": {
            "_view_name": "HTMLView",
            "style": "IPY_MODEL_c69b1ade3e994768b5a5ee60bb0d030d",
            "_dom_classes": [],
            "description": "",
            "_model_name": "HTMLModel",
            "placeholder": "​",
            "_view_module": "@jupyter-widgets/controls",
            "_model_module_version": "1.5.0",
            "value": "",
            "_view_count": null,
            "_view_module_version": "1.5.0",
            "description_tooltip": null,
            "_model_module": "@jupyter-widgets/controls",
            "layout": "IPY_MODEL_9cc49ab7db8845a4a679e9db1104464f"
          }
        },
        "60976bae303445d18143995c9be229fb": {
          "model_module": "@jupyter-widgets/controls",
          "model_name": "FloatProgressModel",
          "model_module_version": "1.5.0",
          "state": {
            "_view_name": "ProgressView",
            "style": "IPY_MODEL_81f44f8fa8ed4e2bac4c05721a02998e",
            "_dom_classes": [],
            "description": "",
            "_model_name": "FloatProgressModel",
            "bar_style": "success",
            "max": 9912422,
            "_view_module": "@jupyter-widgets/controls",
            "_model_module_version": "1.5.0",
            "value": 9912422,
            "_view_count": null,
            "_view_module_version": "1.5.0",
            "orientation": "horizontal",
            "min": 0,
            "description_tooltip": null,
            "_model_module": "@jupyter-widgets/controls",
            "layout": "IPY_MODEL_1b203b4046bf432793d7225d58f900f3"
          }
        },
        "f946f4ef882b4f36b8f1f4019061a6e4": {
          "model_module": "@jupyter-widgets/controls",
          "model_name": "HTMLModel",
          "model_module_version": "1.5.0",
          "state": {
            "_view_name": "HTMLView",
            "style": "IPY_MODEL_1fef0322bac44cddadb4fbd5bb619d9c",
            "_dom_classes": [],
            "description": "",
            "_model_name": "HTMLModel",
            "placeholder": "​",
            "_view_module": "@jupyter-widgets/controls",
            "_model_module_version": "1.5.0",
            "value": " 9913344/? [00:00&lt;00:00, 17341562.92it/s]",
            "_view_count": null,
            "_view_module_version": "1.5.0",
            "description_tooltip": null,
            "_model_module": "@jupyter-widgets/controls",
            "layout": "IPY_MODEL_405253438c9d4be9b62a6a812ea2e5ae"
          }
        },
        "c69b1ade3e994768b5a5ee60bb0d030d": {
          "model_module": "@jupyter-widgets/controls",
          "model_name": "DescriptionStyleModel",
          "model_module_version": "1.5.0",
          "state": {
            "_view_name": "StyleView",
            "_model_name": "DescriptionStyleModel",
            "description_width": "",
            "_view_module": "@jupyter-widgets/base",
            "_model_module_version": "1.5.0",
            "_view_count": null,
            "_view_module_version": "1.2.0",
            "_model_module": "@jupyter-widgets/controls"
          }
        },
        "9cc49ab7db8845a4a679e9db1104464f": {
          "model_module": "@jupyter-widgets/base",
          "model_name": "LayoutModel",
          "model_module_version": "1.2.0",
          "state": {
            "_view_name": "LayoutView",
            "grid_template_rows": null,
            "right": null,
            "justify_content": null,
            "_view_module": "@jupyter-widgets/base",
            "overflow": null,
            "_model_module_version": "1.2.0",
            "_view_count": null,
            "flex_flow": null,
            "width": null,
            "min_width": null,
            "border": null,
            "align_items": null,
            "bottom": null,
            "_model_module": "@jupyter-widgets/base",
            "top": null,
            "grid_column": null,
            "overflow_y": null,
            "overflow_x": null,
            "grid_auto_flow": null,
            "grid_area": null,
            "grid_template_columns": null,
            "flex": null,
            "_model_name": "LayoutModel",
            "justify_items": null,
            "grid_row": null,
            "max_height": null,
            "align_content": null,
            "visibility": null,
            "align_self": null,
            "height": null,
            "min_height": null,
            "padding": null,
            "grid_auto_rows": null,
            "grid_gap": null,
            "max_width": null,
            "order": null,
            "_view_module_version": "1.2.0",
            "grid_template_areas": null,
            "object_position": null,
            "object_fit": null,
            "grid_auto_columns": null,
            "margin": null,
            "display": null,
            "left": null
          }
        },
        "81f44f8fa8ed4e2bac4c05721a02998e": {
          "model_module": "@jupyter-widgets/controls",
          "model_name": "ProgressStyleModel",
          "model_module_version": "1.5.0",
          "state": {
            "_view_name": "StyleView",
            "_model_name": "ProgressStyleModel",
            "description_width": "",
            "_view_module": "@jupyter-widgets/base",
            "_model_module_version": "1.5.0",
            "_view_count": null,
            "_view_module_version": "1.2.0",
            "bar_color": null,
            "_model_module": "@jupyter-widgets/controls"
          }
        },
        "1b203b4046bf432793d7225d58f900f3": {
          "model_module": "@jupyter-widgets/base",
          "model_name": "LayoutModel",
          "model_module_version": "1.2.0",
          "state": {
            "_view_name": "LayoutView",
            "grid_template_rows": null,
            "right": null,
            "justify_content": null,
            "_view_module": "@jupyter-widgets/base",
            "overflow": null,
            "_model_module_version": "1.2.0",
            "_view_count": null,
            "flex_flow": null,
            "width": null,
            "min_width": null,
            "border": null,
            "align_items": null,
            "bottom": null,
            "_model_module": "@jupyter-widgets/base",
            "top": null,
            "grid_column": null,
            "overflow_y": null,
            "overflow_x": null,
            "grid_auto_flow": null,
            "grid_area": null,
            "grid_template_columns": null,
            "flex": null,
            "_model_name": "LayoutModel",
            "justify_items": null,
            "grid_row": null,
            "max_height": null,
            "align_content": null,
            "visibility": null,
            "align_self": null,
            "height": null,
            "min_height": null,
            "padding": null,
            "grid_auto_rows": null,
            "grid_gap": null,
            "max_width": null,
            "order": null,
            "_view_module_version": "1.2.0",
            "grid_template_areas": null,
            "object_position": null,
            "object_fit": null,
            "grid_auto_columns": null,
            "margin": null,
            "display": null,
            "left": null
          }
        },
        "1fef0322bac44cddadb4fbd5bb619d9c": {
          "model_module": "@jupyter-widgets/controls",
          "model_name": "DescriptionStyleModel",
          "model_module_version": "1.5.0",
          "state": {
            "_view_name": "StyleView",
            "_model_name": "DescriptionStyleModel",
            "description_width": "",
            "_view_module": "@jupyter-widgets/base",
            "_model_module_version": "1.5.0",
            "_view_count": null,
            "_view_module_version": "1.2.0",
            "_model_module": "@jupyter-widgets/controls"
          }
        },
        "405253438c9d4be9b62a6a812ea2e5ae": {
          "model_module": "@jupyter-widgets/base",
          "model_name": "LayoutModel",
          "model_module_version": "1.2.0",
          "state": {
            "_view_name": "LayoutView",
            "grid_template_rows": null,
            "right": null,
            "justify_content": null,
            "_view_module": "@jupyter-widgets/base",
            "overflow": null,
            "_model_module_version": "1.2.0",
            "_view_count": null,
            "flex_flow": null,
            "width": null,
            "min_width": null,
            "border": null,
            "align_items": null,
            "bottom": null,
            "_model_module": "@jupyter-widgets/base",
            "top": null,
            "grid_column": null,
            "overflow_y": null,
            "overflow_x": null,
            "grid_auto_flow": null,
            "grid_area": null,
            "grid_template_columns": null,
            "flex": null,
            "_model_name": "LayoutModel",
            "justify_items": null,
            "grid_row": null,
            "max_height": null,
            "align_content": null,
            "visibility": null,
            "align_self": null,
            "height": null,
            "min_height": null,
            "padding": null,
            "grid_auto_rows": null,
            "grid_gap": null,
            "max_width": null,
            "order": null,
            "_view_module_version": "1.2.0",
            "grid_template_areas": null,
            "object_position": null,
            "object_fit": null,
            "grid_auto_columns": null,
            "margin": null,
            "display": null,
            "left": null
          }
        },
        "872b0a9b2d6e449e99b296bcae542a16": {
          "model_module": "@jupyter-widgets/controls",
          "model_name": "HBoxModel",
          "model_module_version": "1.5.0",
          "state": {
            "_view_name": "HBoxView",
            "_dom_classes": [],
            "_model_name": "HBoxModel",
            "_view_module": "@jupyter-widgets/controls",
            "_model_module_version": "1.5.0",
            "_view_count": null,
            "_view_module_version": "1.5.0",
            "box_style": "",
            "layout": "IPY_MODEL_d9006dfc462e49ff87ce2e35b519c88c",
            "_model_module": "@jupyter-widgets/controls",
            "children": [
              "IPY_MODEL_2012bc71e7a74946b763a8ef4aba340a",
              "IPY_MODEL_c27836180be245789eddabae77fdde6a",
              "IPY_MODEL_805c9fba1ad743d98e32d2003898fe12"
            ]
          }
        },
        "d9006dfc462e49ff87ce2e35b519c88c": {
          "model_module": "@jupyter-widgets/base",
          "model_name": "LayoutModel",
          "model_module_version": "1.2.0",
          "state": {
            "_view_name": "LayoutView",
            "grid_template_rows": null,
            "right": null,
            "justify_content": null,
            "_view_module": "@jupyter-widgets/base",
            "overflow": null,
            "_model_module_version": "1.2.0",
            "_view_count": null,
            "flex_flow": null,
            "width": null,
            "min_width": null,
            "border": null,
            "align_items": null,
            "bottom": null,
            "_model_module": "@jupyter-widgets/base",
            "top": null,
            "grid_column": null,
            "overflow_y": null,
            "overflow_x": null,
            "grid_auto_flow": null,
            "grid_area": null,
            "grid_template_columns": null,
            "flex": null,
            "_model_name": "LayoutModel",
            "justify_items": null,
            "grid_row": null,
            "max_height": null,
            "align_content": null,
            "visibility": null,
            "align_self": null,
            "height": null,
            "min_height": null,
            "padding": null,
            "grid_auto_rows": null,
            "grid_gap": null,
            "max_width": null,
            "order": null,
            "_view_module_version": "1.2.0",
            "grid_template_areas": null,
            "object_position": null,
            "object_fit": null,
            "grid_auto_columns": null,
            "margin": null,
            "display": null,
            "left": null
          }
        },
        "2012bc71e7a74946b763a8ef4aba340a": {
          "model_module": "@jupyter-widgets/controls",
          "model_name": "HTMLModel",
          "model_module_version": "1.5.0",
          "state": {
            "_view_name": "HTMLView",
            "style": "IPY_MODEL_968af2c32763470aa3097e579a8ef58e",
            "_dom_classes": [],
            "description": "",
            "_model_name": "HTMLModel",
            "placeholder": "​",
            "_view_module": "@jupyter-widgets/controls",
            "_model_module_version": "1.5.0",
            "value": "",
            "_view_count": null,
            "_view_module_version": "1.5.0",
            "description_tooltip": null,
            "_model_module": "@jupyter-widgets/controls",
            "layout": "IPY_MODEL_0208d10d4a404735a6c109432a7571a1"
          }
        },
        "c27836180be245789eddabae77fdde6a": {
          "model_module": "@jupyter-widgets/controls",
          "model_name": "FloatProgressModel",
          "model_module_version": "1.5.0",
          "state": {
            "_view_name": "ProgressView",
            "style": "IPY_MODEL_48c26a5105604f5b8bf9f02b53cbe028",
            "_dom_classes": [],
            "description": "",
            "_model_name": "FloatProgressModel",
            "bar_style": "success",
            "max": 28881,
            "_view_module": "@jupyter-widgets/controls",
            "_model_module_version": "1.5.0",
            "value": 28881,
            "_view_count": null,
            "_view_module_version": "1.5.0",
            "orientation": "horizontal",
            "min": 0,
            "description_tooltip": null,
            "_model_module": "@jupyter-widgets/controls",
            "layout": "IPY_MODEL_7bfa88829e7640e6be7575adaaa1fbe5"
          }
        },
        "805c9fba1ad743d98e32d2003898fe12": {
          "model_module": "@jupyter-widgets/controls",
          "model_name": "HTMLModel",
          "model_module_version": "1.5.0",
          "state": {
            "_view_name": "HTMLView",
            "style": "IPY_MODEL_0b0bcff3d3a34cc8aadda6213637caa3",
            "_dom_classes": [],
            "description": "",
            "_model_name": "HTMLModel",
            "placeholder": "​",
            "_view_module": "@jupyter-widgets/controls",
            "_model_module_version": "1.5.0",
            "value": " 29696/? [00:00&lt;00:00, 864514.43it/s]",
            "_view_count": null,
            "_view_module_version": "1.5.0",
            "description_tooltip": null,
            "_model_module": "@jupyter-widgets/controls",
            "layout": "IPY_MODEL_d219c1352ba549668226c184f6541c1b"
          }
        },
        "968af2c32763470aa3097e579a8ef58e": {
          "model_module": "@jupyter-widgets/controls",
          "model_name": "DescriptionStyleModel",
          "model_module_version": "1.5.0",
          "state": {
            "_view_name": "StyleView",
            "_model_name": "DescriptionStyleModel",
            "description_width": "",
            "_view_module": "@jupyter-widgets/base",
            "_model_module_version": "1.5.0",
            "_view_count": null,
            "_view_module_version": "1.2.0",
            "_model_module": "@jupyter-widgets/controls"
          }
        },
        "0208d10d4a404735a6c109432a7571a1": {
          "model_module": "@jupyter-widgets/base",
          "model_name": "LayoutModel",
          "model_module_version": "1.2.0",
          "state": {
            "_view_name": "LayoutView",
            "grid_template_rows": null,
            "right": null,
            "justify_content": null,
            "_view_module": "@jupyter-widgets/base",
            "overflow": null,
            "_model_module_version": "1.2.0",
            "_view_count": null,
            "flex_flow": null,
            "width": null,
            "min_width": null,
            "border": null,
            "align_items": null,
            "bottom": null,
            "_model_module": "@jupyter-widgets/base",
            "top": null,
            "grid_column": null,
            "overflow_y": null,
            "overflow_x": null,
            "grid_auto_flow": null,
            "grid_area": null,
            "grid_template_columns": null,
            "flex": null,
            "_model_name": "LayoutModel",
            "justify_items": null,
            "grid_row": null,
            "max_height": null,
            "align_content": null,
            "visibility": null,
            "align_self": null,
            "height": null,
            "min_height": null,
            "padding": null,
            "grid_auto_rows": null,
            "grid_gap": null,
            "max_width": null,
            "order": null,
            "_view_module_version": "1.2.0",
            "grid_template_areas": null,
            "object_position": null,
            "object_fit": null,
            "grid_auto_columns": null,
            "margin": null,
            "display": null,
            "left": null
          }
        },
        "48c26a5105604f5b8bf9f02b53cbe028": {
          "model_module": "@jupyter-widgets/controls",
          "model_name": "ProgressStyleModel",
          "model_module_version": "1.5.0",
          "state": {
            "_view_name": "StyleView",
            "_model_name": "ProgressStyleModel",
            "description_width": "",
            "_view_module": "@jupyter-widgets/base",
            "_model_module_version": "1.5.0",
            "_view_count": null,
            "_view_module_version": "1.2.0",
            "bar_color": null,
            "_model_module": "@jupyter-widgets/controls"
          }
        },
        "7bfa88829e7640e6be7575adaaa1fbe5": {
          "model_module": "@jupyter-widgets/base",
          "model_name": "LayoutModel",
          "model_module_version": "1.2.0",
          "state": {
            "_view_name": "LayoutView",
            "grid_template_rows": null,
            "right": null,
            "justify_content": null,
            "_view_module": "@jupyter-widgets/base",
            "overflow": null,
            "_model_module_version": "1.2.0",
            "_view_count": null,
            "flex_flow": null,
            "width": null,
            "min_width": null,
            "border": null,
            "align_items": null,
            "bottom": null,
            "_model_module": "@jupyter-widgets/base",
            "top": null,
            "grid_column": null,
            "overflow_y": null,
            "overflow_x": null,
            "grid_auto_flow": null,
            "grid_area": null,
            "grid_template_columns": null,
            "flex": null,
            "_model_name": "LayoutModel",
            "justify_items": null,
            "grid_row": null,
            "max_height": null,
            "align_content": null,
            "visibility": null,
            "align_self": null,
            "height": null,
            "min_height": null,
            "padding": null,
            "grid_auto_rows": null,
            "grid_gap": null,
            "max_width": null,
            "order": null,
            "_view_module_version": "1.2.0",
            "grid_template_areas": null,
            "object_position": null,
            "object_fit": null,
            "grid_auto_columns": null,
            "margin": null,
            "display": null,
            "left": null
          }
        },
        "0b0bcff3d3a34cc8aadda6213637caa3": {
          "model_module": "@jupyter-widgets/controls",
          "model_name": "DescriptionStyleModel",
          "model_module_version": "1.5.0",
          "state": {
            "_view_name": "StyleView",
            "_model_name": "DescriptionStyleModel",
            "description_width": "",
            "_view_module": "@jupyter-widgets/base",
            "_model_module_version": "1.5.0",
            "_view_count": null,
            "_view_module_version": "1.2.0",
            "_model_module": "@jupyter-widgets/controls"
          }
        },
        "d219c1352ba549668226c184f6541c1b": {
          "model_module": "@jupyter-widgets/base",
          "model_name": "LayoutModel",
          "model_module_version": "1.2.0",
          "state": {
            "_view_name": "LayoutView",
            "grid_template_rows": null,
            "right": null,
            "justify_content": null,
            "_view_module": "@jupyter-widgets/base",
            "overflow": null,
            "_model_module_version": "1.2.0",
            "_view_count": null,
            "flex_flow": null,
            "width": null,
            "min_width": null,
            "border": null,
            "align_items": null,
            "bottom": null,
            "_model_module": "@jupyter-widgets/base",
            "top": null,
            "grid_column": null,
            "overflow_y": null,
            "overflow_x": null,
            "grid_auto_flow": null,
            "grid_area": null,
            "grid_template_columns": null,
            "flex": null,
            "_model_name": "LayoutModel",
            "justify_items": null,
            "grid_row": null,
            "max_height": null,
            "align_content": null,
            "visibility": null,
            "align_self": null,
            "height": null,
            "min_height": null,
            "padding": null,
            "grid_auto_rows": null,
            "grid_gap": null,
            "max_width": null,
            "order": null,
            "_view_module_version": "1.2.0",
            "grid_template_areas": null,
            "object_position": null,
            "object_fit": null,
            "grid_auto_columns": null,
            "margin": null,
            "display": null,
            "left": null
          }
        },
        "11466ee7696b4d0d8820c302776ffa29": {
          "model_module": "@jupyter-widgets/controls",
          "model_name": "HBoxModel",
          "model_module_version": "1.5.0",
          "state": {
            "_view_name": "HBoxView",
            "_dom_classes": [],
            "_model_name": "HBoxModel",
            "_view_module": "@jupyter-widgets/controls",
            "_model_module_version": "1.5.0",
            "_view_count": null,
            "_view_module_version": "1.5.0",
            "box_style": "",
            "layout": "IPY_MODEL_758c75d6355c431f9b643a973630ee81",
            "_model_module": "@jupyter-widgets/controls",
            "children": [
              "IPY_MODEL_c29bef6a90b445abaa8002115951a326",
              "IPY_MODEL_750a2e5153744cc09513208dd64b6717",
              "IPY_MODEL_3f44af048ede4975a48e5e8e804ae773"
            ]
          }
        },
        "758c75d6355c431f9b643a973630ee81": {
          "model_module": "@jupyter-widgets/base",
          "model_name": "LayoutModel",
          "model_module_version": "1.2.0",
          "state": {
            "_view_name": "LayoutView",
            "grid_template_rows": null,
            "right": null,
            "justify_content": null,
            "_view_module": "@jupyter-widgets/base",
            "overflow": null,
            "_model_module_version": "1.2.0",
            "_view_count": null,
            "flex_flow": null,
            "width": null,
            "min_width": null,
            "border": null,
            "align_items": null,
            "bottom": null,
            "_model_module": "@jupyter-widgets/base",
            "top": null,
            "grid_column": null,
            "overflow_y": null,
            "overflow_x": null,
            "grid_auto_flow": null,
            "grid_area": null,
            "grid_template_columns": null,
            "flex": null,
            "_model_name": "LayoutModel",
            "justify_items": null,
            "grid_row": null,
            "max_height": null,
            "align_content": null,
            "visibility": null,
            "align_self": null,
            "height": null,
            "min_height": null,
            "padding": null,
            "grid_auto_rows": null,
            "grid_gap": null,
            "max_width": null,
            "order": null,
            "_view_module_version": "1.2.0",
            "grid_template_areas": null,
            "object_position": null,
            "object_fit": null,
            "grid_auto_columns": null,
            "margin": null,
            "display": null,
            "left": null
          }
        },
        "c29bef6a90b445abaa8002115951a326": {
          "model_module": "@jupyter-widgets/controls",
          "model_name": "HTMLModel",
          "model_module_version": "1.5.0",
          "state": {
            "_view_name": "HTMLView",
            "style": "IPY_MODEL_12e43a9a82c94e79bc1fd6e408299e29",
            "_dom_classes": [],
            "description": "",
            "_model_name": "HTMLModel",
            "placeholder": "​",
            "_view_module": "@jupyter-widgets/controls",
            "_model_module_version": "1.5.0",
            "value": "",
            "_view_count": null,
            "_view_module_version": "1.5.0",
            "description_tooltip": null,
            "_model_module": "@jupyter-widgets/controls",
            "layout": "IPY_MODEL_b70ce25d21aa493c933118b98c35bde2"
          }
        },
        "750a2e5153744cc09513208dd64b6717": {
          "model_module": "@jupyter-widgets/controls",
          "model_name": "FloatProgressModel",
          "model_module_version": "1.5.0",
          "state": {
            "_view_name": "ProgressView",
            "style": "IPY_MODEL_79042f6be1104ea2926a6df65bfa448f",
            "_dom_classes": [],
            "description": "",
            "_model_name": "FloatProgressModel",
            "bar_style": "success",
            "max": 1648877,
            "_view_module": "@jupyter-widgets/controls",
            "_model_module_version": "1.5.0",
            "value": 1648877,
            "_view_count": null,
            "_view_module_version": "1.5.0",
            "orientation": "horizontal",
            "min": 0,
            "description_tooltip": null,
            "_model_module": "@jupyter-widgets/controls",
            "layout": "IPY_MODEL_18e9839c3c8d4757b69d8ac2abcd8c67"
          }
        },
        "3f44af048ede4975a48e5e8e804ae773": {
          "model_module": "@jupyter-widgets/controls",
          "model_name": "HTMLModel",
          "model_module_version": "1.5.0",
          "state": {
            "_view_name": "HTMLView",
            "style": "IPY_MODEL_a3aefda5fbac475c8daee8e278ce1819",
            "_dom_classes": [],
            "description": "",
            "_model_name": "HTMLModel",
            "placeholder": "​",
            "_view_module": "@jupyter-widgets/controls",
            "_model_module_version": "1.5.0",
            "value": " 1649664/? [00:00&lt;00:00, 17262161.80it/s]",
            "_view_count": null,
            "_view_module_version": "1.5.0",
            "description_tooltip": null,
            "_model_module": "@jupyter-widgets/controls",
            "layout": "IPY_MODEL_f1ae59cf3ef2425a8e26dbeb2bda0578"
          }
        },
        "12e43a9a82c94e79bc1fd6e408299e29": {
          "model_module": "@jupyter-widgets/controls",
          "model_name": "DescriptionStyleModel",
          "model_module_version": "1.5.0",
          "state": {
            "_view_name": "StyleView",
            "_model_name": "DescriptionStyleModel",
            "description_width": "",
            "_view_module": "@jupyter-widgets/base",
            "_model_module_version": "1.5.0",
            "_view_count": null,
            "_view_module_version": "1.2.0",
            "_model_module": "@jupyter-widgets/controls"
          }
        },
        "b70ce25d21aa493c933118b98c35bde2": {
          "model_module": "@jupyter-widgets/base",
          "model_name": "LayoutModel",
          "model_module_version": "1.2.0",
          "state": {
            "_view_name": "LayoutView",
            "grid_template_rows": null,
            "right": null,
            "justify_content": null,
            "_view_module": "@jupyter-widgets/base",
            "overflow": null,
            "_model_module_version": "1.2.0",
            "_view_count": null,
            "flex_flow": null,
            "width": null,
            "min_width": null,
            "border": null,
            "align_items": null,
            "bottom": null,
            "_model_module": "@jupyter-widgets/base",
            "top": null,
            "grid_column": null,
            "overflow_y": null,
            "overflow_x": null,
            "grid_auto_flow": null,
            "grid_area": null,
            "grid_template_columns": null,
            "flex": null,
            "_model_name": "LayoutModel",
            "justify_items": null,
            "grid_row": null,
            "max_height": null,
            "align_content": null,
            "visibility": null,
            "align_self": null,
            "height": null,
            "min_height": null,
            "padding": null,
            "grid_auto_rows": null,
            "grid_gap": null,
            "max_width": null,
            "order": null,
            "_view_module_version": "1.2.0",
            "grid_template_areas": null,
            "object_position": null,
            "object_fit": null,
            "grid_auto_columns": null,
            "margin": null,
            "display": null,
            "left": null
          }
        },
        "79042f6be1104ea2926a6df65bfa448f": {
          "model_module": "@jupyter-widgets/controls",
          "model_name": "ProgressStyleModel",
          "model_module_version": "1.5.0",
          "state": {
            "_view_name": "StyleView",
            "_model_name": "ProgressStyleModel",
            "description_width": "",
            "_view_module": "@jupyter-widgets/base",
            "_model_module_version": "1.5.0",
            "_view_count": null,
            "_view_module_version": "1.2.0",
            "bar_color": null,
            "_model_module": "@jupyter-widgets/controls"
          }
        },
        "18e9839c3c8d4757b69d8ac2abcd8c67": {
          "model_module": "@jupyter-widgets/base",
          "model_name": "LayoutModel",
          "model_module_version": "1.2.0",
          "state": {
            "_view_name": "LayoutView",
            "grid_template_rows": null,
            "right": null,
            "justify_content": null,
            "_view_module": "@jupyter-widgets/base",
            "overflow": null,
            "_model_module_version": "1.2.0",
            "_view_count": null,
            "flex_flow": null,
            "width": null,
            "min_width": null,
            "border": null,
            "align_items": null,
            "bottom": null,
            "_model_module": "@jupyter-widgets/base",
            "top": null,
            "grid_column": null,
            "overflow_y": null,
            "overflow_x": null,
            "grid_auto_flow": null,
            "grid_area": null,
            "grid_template_columns": null,
            "flex": null,
            "_model_name": "LayoutModel",
            "justify_items": null,
            "grid_row": null,
            "max_height": null,
            "align_content": null,
            "visibility": null,
            "align_self": null,
            "height": null,
            "min_height": null,
            "padding": null,
            "grid_auto_rows": null,
            "grid_gap": null,
            "max_width": null,
            "order": null,
            "_view_module_version": "1.2.0",
            "grid_template_areas": null,
            "object_position": null,
            "object_fit": null,
            "grid_auto_columns": null,
            "margin": null,
            "display": null,
            "left": null
          }
        },
        "a3aefda5fbac475c8daee8e278ce1819": {
          "model_module": "@jupyter-widgets/controls",
          "model_name": "DescriptionStyleModel",
          "model_module_version": "1.5.0",
          "state": {
            "_view_name": "StyleView",
            "_model_name": "DescriptionStyleModel",
            "description_width": "",
            "_view_module": "@jupyter-widgets/base",
            "_model_module_version": "1.5.0",
            "_view_count": null,
            "_view_module_version": "1.2.0",
            "_model_module": "@jupyter-widgets/controls"
          }
        },
        "f1ae59cf3ef2425a8e26dbeb2bda0578": {
          "model_module": "@jupyter-widgets/base",
          "model_name": "LayoutModel",
          "model_module_version": "1.2.0",
          "state": {
            "_view_name": "LayoutView",
            "grid_template_rows": null,
            "right": null,
            "justify_content": null,
            "_view_module": "@jupyter-widgets/base",
            "overflow": null,
            "_model_module_version": "1.2.0",
            "_view_count": null,
            "flex_flow": null,
            "width": null,
            "min_width": null,
            "border": null,
            "align_items": null,
            "bottom": null,
            "_model_module": "@jupyter-widgets/base",
            "top": null,
            "grid_column": null,
            "overflow_y": null,
            "overflow_x": null,
            "grid_auto_flow": null,
            "grid_area": null,
            "grid_template_columns": null,
            "flex": null,
            "_model_name": "LayoutModel",
            "justify_items": null,
            "grid_row": null,
            "max_height": null,
            "align_content": null,
            "visibility": null,
            "align_self": null,
            "height": null,
            "min_height": null,
            "padding": null,
            "grid_auto_rows": null,
            "grid_gap": null,
            "max_width": null,
            "order": null,
            "_view_module_version": "1.2.0",
            "grid_template_areas": null,
            "object_position": null,
            "object_fit": null,
            "grid_auto_columns": null,
            "margin": null,
            "display": null,
            "left": null
          }
        },
        "b6aacd37342f4cbd8fa10ca1209c351c": {
          "model_module": "@jupyter-widgets/controls",
          "model_name": "HBoxModel",
          "model_module_version": "1.5.0",
          "state": {
            "_view_name": "HBoxView",
            "_dom_classes": [],
            "_model_name": "HBoxModel",
            "_view_module": "@jupyter-widgets/controls",
            "_model_module_version": "1.5.0",
            "_view_count": null,
            "_view_module_version": "1.5.0",
            "box_style": "",
            "layout": "IPY_MODEL_504e588a5919479fbecbd8da97410a5a",
            "_model_module": "@jupyter-widgets/controls",
            "children": [
              "IPY_MODEL_5a375a11233941ab8c9ea8423eb03c0b",
              "IPY_MODEL_b77a6739a2a6493bb78ac42ef3cb9993",
              "IPY_MODEL_88d3210ab5b54bcfbf9aafa4d8db9bad"
            ]
          }
        },
        "504e588a5919479fbecbd8da97410a5a": {
          "model_module": "@jupyter-widgets/base",
          "model_name": "LayoutModel",
          "model_module_version": "1.2.0",
          "state": {
            "_view_name": "LayoutView",
            "grid_template_rows": null,
            "right": null,
            "justify_content": null,
            "_view_module": "@jupyter-widgets/base",
            "overflow": null,
            "_model_module_version": "1.2.0",
            "_view_count": null,
            "flex_flow": null,
            "width": null,
            "min_width": null,
            "border": null,
            "align_items": null,
            "bottom": null,
            "_model_module": "@jupyter-widgets/base",
            "top": null,
            "grid_column": null,
            "overflow_y": null,
            "overflow_x": null,
            "grid_auto_flow": null,
            "grid_area": null,
            "grid_template_columns": null,
            "flex": null,
            "_model_name": "LayoutModel",
            "justify_items": null,
            "grid_row": null,
            "max_height": null,
            "align_content": null,
            "visibility": null,
            "align_self": null,
            "height": null,
            "min_height": null,
            "padding": null,
            "grid_auto_rows": null,
            "grid_gap": null,
            "max_width": null,
            "order": null,
            "_view_module_version": "1.2.0",
            "grid_template_areas": null,
            "object_position": null,
            "object_fit": null,
            "grid_auto_columns": null,
            "margin": null,
            "display": null,
            "left": null
          }
        },
        "5a375a11233941ab8c9ea8423eb03c0b": {
          "model_module": "@jupyter-widgets/controls",
          "model_name": "HTMLModel",
          "model_module_version": "1.5.0",
          "state": {
            "_view_name": "HTMLView",
            "style": "IPY_MODEL_7284fc17e5554163b773145c70e99041",
            "_dom_classes": [],
            "description": "",
            "_model_name": "HTMLModel",
            "placeholder": "​",
            "_view_module": "@jupyter-widgets/controls",
            "_model_module_version": "1.5.0",
            "value": "",
            "_view_count": null,
            "_view_module_version": "1.5.0",
            "description_tooltip": null,
            "_model_module": "@jupyter-widgets/controls",
            "layout": "IPY_MODEL_347e27d1d0a14f34822f04d970cf318a"
          }
        },
        "b77a6739a2a6493bb78ac42ef3cb9993": {
          "model_module": "@jupyter-widgets/controls",
          "model_name": "FloatProgressModel",
          "model_module_version": "1.5.0",
          "state": {
            "_view_name": "ProgressView",
            "style": "IPY_MODEL_86a9ec1b521243db866147cc2139e1ec",
            "_dom_classes": [],
            "description": "",
            "_model_name": "FloatProgressModel",
            "bar_style": "success",
            "max": 4542,
            "_view_module": "@jupyter-widgets/controls",
            "_model_module_version": "1.5.0",
            "value": 4542,
            "_view_count": null,
            "_view_module_version": "1.5.0",
            "orientation": "horizontal",
            "min": 0,
            "description_tooltip": null,
            "_model_module": "@jupyter-widgets/controls",
            "layout": "IPY_MODEL_85d8cb64e6b84849a2b3f71d0f91a17f"
          }
        },
        "88d3210ab5b54bcfbf9aafa4d8db9bad": {
          "model_module": "@jupyter-widgets/controls",
          "model_name": "HTMLModel",
          "model_module_version": "1.5.0",
          "state": {
            "_view_name": "HTMLView",
            "style": "IPY_MODEL_5487cbb3e647459b8c490f7415da4b81",
            "_dom_classes": [],
            "description": "",
            "_model_name": "HTMLModel",
            "placeholder": "​",
            "_view_module": "@jupyter-widgets/controls",
            "_model_module_version": "1.5.0",
            "value": " 5120/? [00:00&lt;00:00, 123169.43it/s]",
            "_view_count": null,
            "_view_module_version": "1.5.0",
            "description_tooltip": null,
            "_model_module": "@jupyter-widgets/controls",
            "layout": "IPY_MODEL_22ea039b9dc940449fe8cd37c0869239"
          }
        },
        "7284fc17e5554163b773145c70e99041": {
          "model_module": "@jupyter-widgets/controls",
          "model_name": "DescriptionStyleModel",
          "model_module_version": "1.5.0",
          "state": {
            "_view_name": "StyleView",
            "_model_name": "DescriptionStyleModel",
            "description_width": "",
            "_view_module": "@jupyter-widgets/base",
            "_model_module_version": "1.5.0",
            "_view_count": null,
            "_view_module_version": "1.2.0",
            "_model_module": "@jupyter-widgets/controls"
          }
        },
        "347e27d1d0a14f34822f04d970cf318a": {
          "model_module": "@jupyter-widgets/base",
          "model_name": "LayoutModel",
          "model_module_version": "1.2.0",
          "state": {
            "_view_name": "LayoutView",
            "grid_template_rows": null,
            "right": null,
            "justify_content": null,
            "_view_module": "@jupyter-widgets/base",
            "overflow": null,
            "_model_module_version": "1.2.0",
            "_view_count": null,
            "flex_flow": null,
            "width": null,
            "min_width": null,
            "border": null,
            "align_items": null,
            "bottom": null,
            "_model_module": "@jupyter-widgets/base",
            "top": null,
            "grid_column": null,
            "overflow_y": null,
            "overflow_x": null,
            "grid_auto_flow": null,
            "grid_area": null,
            "grid_template_columns": null,
            "flex": null,
            "_model_name": "LayoutModel",
            "justify_items": null,
            "grid_row": null,
            "max_height": null,
            "align_content": null,
            "visibility": null,
            "align_self": null,
            "height": null,
            "min_height": null,
            "padding": null,
            "grid_auto_rows": null,
            "grid_gap": null,
            "max_width": null,
            "order": null,
            "_view_module_version": "1.2.0",
            "grid_template_areas": null,
            "object_position": null,
            "object_fit": null,
            "grid_auto_columns": null,
            "margin": null,
            "display": null,
            "left": null
          }
        },
        "86a9ec1b521243db866147cc2139e1ec": {
          "model_module": "@jupyter-widgets/controls",
          "model_name": "ProgressStyleModel",
          "model_module_version": "1.5.0",
          "state": {
            "_view_name": "StyleView",
            "_model_name": "ProgressStyleModel",
            "description_width": "",
            "_view_module": "@jupyter-widgets/base",
            "_model_module_version": "1.5.0",
            "_view_count": null,
            "_view_module_version": "1.2.0",
            "bar_color": null,
            "_model_module": "@jupyter-widgets/controls"
          }
        },
        "85d8cb64e6b84849a2b3f71d0f91a17f": {
          "model_module": "@jupyter-widgets/base",
          "model_name": "LayoutModel",
          "model_module_version": "1.2.0",
          "state": {
            "_view_name": "LayoutView",
            "grid_template_rows": null,
            "right": null,
            "justify_content": null,
            "_view_module": "@jupyter-widgets/base",
            "overflow": null,
            "_model_module_version": "1.2.0",
            "_view_count": null,
            "flex_flow": null,
            "width": null,
            "min_width": null,
            "border": null,
            "align_items": null,
            "bottom": null,
            "_model_module": "@jupyter-widgets/base",
            "top": null,
            "grid_column": null,
            "overflow_y": null,
            "overflow_x": null,
            "grid_auto_flow": null,
            "grid_area": null,
            "grid_template_columns": null,
            "flex": null,
            "_model_name": "LayoutModel",
            "justify_items": null,
            "grid_row": null,
            "max_height": null,
            "align_content": null,
            "visibility": null,
            "align_self": null,
            "height": null,
            "min_height": null,
            "padding": null,
            "grid_auto_rows": null,
            "grid_gap": null,
            "max_width": null,
            "order": null,
            "_view_module_version": "1.2.0",
            "grid_template_areas": null,
            "object_position": null,
            "object_fit": null,
            "grid_auto_columns": null,
            "margin": null,
            "display": null,
            "left": null
          }
        },
        "5487cbb3e647459b8c490f7415da4b81": {
          "model_module": "@jupyter-widgets/controls",
          "model_name": "DescriptionStyleModel",
          "model_module_version": "1.5.0",
          "state": {
            "_view_name": "StyleView",
            "_model_name": "DescriptionStyleModel",
            "description_width": "",
            "_view_module": "@jupyter-widgets/base",
            "_model_module_version": "1.5.0",
            "_view_count": null,
            "_view_module_version": "1.2.0",
            "_model_module": "@jupyter-widgets/controls"
          }
        },
        "22ea039b9dc940449fe8cd37c0869239": {
          "model_module": "@jupyter-widgets/base",
          "model_name": "LayoutModel",
          "model_module_version": "1.2.0",
          "state": {
            "_view_name": "LayoutView",
            "grid_template_rows": null,
            "right": null,
            "justify_content": null,
            "_view_module": "@jupyter-widgets/base",
            "overflow": null,
            "_model_module_version": "1.2.0",
            "_view_count": null,
            "flex_flow": null,
            "width": null,
            "min_width": null,
            "border": null,
            "align_items": null,
            "bottom": null,
            "_model_module": "@jupyter-widgets/base",
            "top": null,
            "grid_column": null,
            "overflow_y": null,
            "overflow_x": null,
            "grid_auto_flow": null,
            "grid_area": null,
            "grid_template_columns": null,
            "flex": null,
            "_model_name": "LayoutModel",
            "justify_items": null,
            "grid_row": null,
            "max_height": null,
            "align_content": null,
            "visibility": null,
            "align_self": null,
            "height": null,
            "min_height": null,
            "padding": null,
            "grid_auto_rows": null,
            "grid_gap": null,
            "max_width": null,
            "order": null,
            "_view_module_version": "1.2.0",
            "grid_template_areas": null,
            "object_position": null,
            "object_fit": null,
            "grid_auto_columns": null,
            "margin": null,
            "display": null,
            "left": null
          }
        },
        "9b7fa524654f497caefd1e404dbdc20d": {
          "model_module": "@jupyter-widgets/controls",
          "model_name": "HBoxModel",
          "model_module_version": "1.5.0",
          "state": {
            "_view_name": "HBoxView",
            "_dom_classes": [],
            "_model_name": "HBoxModel",
            "_view_module": "@jupyter-widgets/controls",
            "_model_module_version": "1.5.0",
            "_view_count": null,
            "_view_module_version": "1.5.0",
            "box_style": "",
            "layout": "IPY_MODEL_96f919a798e2408686bed3ce2c65461b",
            "_model_module": "@jupyter-widgets/controls",
            "children": [
              "IPY_MODEL_bd38031a9abd40b283233a4ae462b913",
              "IPY_MODEL_58548751f59541bbb4d3f897ec584df0",
              "IPY_MODEL_c15fac85ab8742f7a0ade92cdb1d51b5"
            ]
          }
        },
        "96f919a798e2408686bed3ce2c65461b": {
          "model_module": "@jupyter-widgets/base",
          "model_name": "LayoutModel",
          "model_module_version": "1.2.0",
          "state": {
            "_view_name": "LayoutView",
            "grid_template_rows": null,
            "right": null,
            "justify_content": null,
            "_view_module": "@jupyter-widgets/base",
            "overflow": null,
            "_model_module_version": "1.2.0",
            "_view_count": null,
            "flex_flow": null,
            "width": null,
            "min_width": null,
            "border": null,
            "align_items": null,
            "bottom": null,
            "_model_module": "@jupyter-widgets/base",
            "top": null,
            "grid_column": null,
            "overflow_y": null,
            "overflow_x": null,
            "grid_auto_flow": null,
            "grid_area": null,
            "grid_template_columns": null,
            "flex": null,
            "_model_name": "LayoutModel",
            "justify_items": null,
            "grid_row": null,
            "max_height": null,
            "align_content": null,
            "visibility": null,
            "align_self": null,
            "height": null,
            "min_height": null,
            "padding": null,
            "grid_auto_rows": null,
            "grid_gap": null,
            "max_width": null,
            "order": null,
            "_view_module_version": "1.2.0",
            "grid_template_areas": null,
            "object_position": null,
            "object_fit": null,
            "grid_auto_columns": null,
            "margin": null,
            "display": null,
            "left": null
          }
        },
        "bd38031a9abd40b283233a4ae462b913": {
          "model_module": "@jupyter-widgets/controls",
          "model_name": "HTMLModel",
          "model_module_version": "1.5.0",
          "state": {
            "_view_name": "HTMLView",
            "style": "IPY_MODEL_ba4bd0bec5cd4c54b0ef932fef3643cf",
            "_dom_classes": [],
            "description": "",
            "_model_name": "HTMLModel",
            "placeholder": "​",
            "_view_module": "@jupyter-widgets/controls",
            "_model_module_version": "1.5.0",
            "value": "",
            "_view_count": null,
            "_view_module_version": "1.5.0",
            "description_tooltip": null,
            "_model_module": "@jupyter-widgets/controls",
            "layout": "IPY_MODEL_b968d558c52745ab9f485dc644790138"
          }
        },
        "58548751f59541bbb4d3f897ec584df0": {
          "model_module": "@jupyter-widgets/controls",
          "model_name": "FloatProgressModel",
          "model_module_version": "1.5.0",
          "state": {
            "_view_name": "ProgressView",
            "style": "IPY_MODEL_1c495c01d8c84827a9a9e98ebc015764",
            "_dom_classes": [],
            "description": "",
            "_model_name": "FloatProgressModel",
            "bar_style": "success",
            "max": 170498071,
            "_view_module": "@jupyter-widgets/controls",
            "_model_module_version": "1.5.0",
            "value": 170498071,
            "_view_count": null,
            "_view_module_version": "1.5.0",
            "orientation": "horizontal",
            "min": 0,
            "description_tooltip": null,
            "_model_module": "@jupyter-widgets/controls",
            "layout": "IPY_MODEL_b6871e5e61bd4434a6687bb14e0bff98"
          }
        },
        "c15fac85ab8742f7a0ade92cdb1d51b5": {
          "model_module": "@jupyter-widgets/controls",
          "model_name": "HTMLModel",
          "model_module_version": "1.5.0",
          "state": {
            "_view_name": "HTMLView",
            "style": "IPY_MODEL_65d599759c7648acaa34d1952f5e570d",
            "_dom_classes": [],
            "description": "",
            "_model_name": "HTMLModel",
            "placeholder": "​",
            "_view_module": "@jupyter-widgets/controls",
            "_model_module_version": "1.5.0",
            "value": " 170499072/? [00:06&lt;00:00, 31942276.16it/s]",
            "_view_count": null,
            "_view_module_version": "1.5.0",
            "description_tooltip": null,
            "_model_module": "@jupyter-widgets/controls",
            "layout": "IPY_MODEL_d4b049173a924786b423579d13d926b8"
          }
        },
        "ba4bd0bec5cd4c54b0ef932fef3643cf": {
          "model_module": "@jupyter-widgets/controls",
          "model_name": "DescriptionStyleModel",
          "model_module_version": "1.5.0",
          "state": {
            "_view_name": "StyleView",
            "_model_name": "DescriptionStyleModel",
            "description_width": "",
            "_view_module": "@jupyter-widgets/base",
            "_model_module_version": "1.5.0",
            "_view_count": null,
            "_view_module_version": "1.2.0",
            "_model_module": "@jupyter-widgets/controls"
          }
        },
        "b968d558c52745ab9f485dc644790138": {
          "model_module": "@jupyter-widgets/base",
          "model_name": "LayoutModel",
          "model_module_version": "1.2.0",
          "state": {
            "_view_name": "LayoutView",
            "grid_template_rows": null,
            "right": null,
            "justify_content": null,
            "_view_module": "@jupyter-widgets/base",
            "overflow": null,
            "_model_module_version": "1.2.0",
            "_view_count": null,
            "flex_flow": null,
            "width": null,
            "min_width": null,
            "border": null,
            "align_items": null,
            "bottom": null,
            "_model_module": "@jupyter-widgets/base",
            "top": null,
            "grid_column": null,
            "overflow_y": null,
            "overflow_x": null,
            "grid_auto_flow": null,
            "grid_area": null,
            "grid_template_columns": null,
            "flex": null,
            "_model_name": "LayoutModel",
            "justify_items": null,
            "grid_row": null,
            "max_height": null,
            "align_content": null,
            "visibility": null,
            "align_self": null,
            "height": null,
            "min_height": null,
            "padding": null,
            "grid_auto_rows": null,
            "grid_gap": null,
            "max_width": null,
            "order": null,
            "_view_module_version": "1.2.0",
            "grid_template_areas": null,
            "object_position": null,
            "object_fit": null,
            "grid_auto_columns": null,
            "margin": null,
            "display": null,
            "left": null
          }
        },
        "1c495c01d8c84827a9a9e98ebc015764": {
          "model_module": "@jupyter-widgets/controls",
          "model_name": "ProgressStyleModel",
          "model_module_version": "1.5.0",
          "state": {
            "_view_name": "StyleView",
            "_model_name": "ProgressStyleModel",
            "description_width": "",
            "_view_module": "@jupyter-widgets/base",
            "_model_module_version": "1.5.0",
            "_view_count": null,
            "_view_module_version": "1.2.0",
            "bar_color": null,
            "_model_module": "@jupyter-widgets/controls"
          }
        },
        "b6871e5e61bd4434a6687bb14e0bff98": {
          "model_module": "@jupyter-widgets/base",
          "model_name": "LayoutModel",
          "model_module_version": "1.2.0",
          "state": {
            "_view_name": "LayoutView",
            "grid_template_rows": null,
            "right": null,
            "justify_content": null,
            "_view_module": "@jupyter-widgets/base",
            "overflow": null,
            "_model_module_version": "1.2.0",
            "_view_count": null,
            "flex_flow": null,
            "width": null,
            "min_width": null,
            "border": null,
            "align_items": null,
            "bottom": null,
            "_model_module": "@jupyter-widgets/base",
            "top": null,
            "grid_column": null,
            "overflow_y": null,
            "overflow_x": null,
            "grid_auto_flow": null,
            "grid_area": null,
            "grid_template_columns": null,
            "flex": null,
            "_model_name": "LayoutModel",
            "justify_items": null,
            "grid_row": null,
            "max_height": null,
            "align_content": null,
            "visibility": null,
            "align_self": null,
            "height": null,
            "min_height": null,
            "padding": null,
            "grid_auto_rows": null,
            "grid_gap": null,
            "max_width": null,
            "order": null,
            "_view_module_version": "1.2.0",
            "grid_template_areas": null,
            "object_position": null,
            "object_fit": null,
            "grid_auto_columns": null,
            "margin": null,
            "display": null,
            "left": null
          }
        },
        "65d599759c7648acaa34d1952f5e570d": {
          "model_module": "@jupyter-widgets/controls",
          "model_name": "DescriptionStyleModel",
          "model_module_version": "1.5.0",
          "state": {
            "_view_name": "StyleView",
            "_model_name": "DescriptionStyleModel",
            "description_width": "",
            "_view_module": "@jupyter-widgets/base",
            "_model_module_version": "1.5.0",
            "_view_count": null,
            "_view_module_version": "1.2.0",
            "_model_module": "@jupyter-widgets/controls"
          }
        },
        "d4b049173a924786b423579d13d926b8": {
          "model_module": "@jupyter-widgets/base",
          "model_name": "LayoutModel",
          "model_module_version": "1.2.0",
          "state": {
            "_view_name": "LayoutView",
            "grid_template_rows": null,
            "right": null,
            "justify_content": null,
            "_view_module": "@jupyter-widgets/base",
            "overflow": null,
            "_model_module_version": "1.2.0",
            "_view_count": null,
            "flex_flow": null,
            "width": null,
            "min_width": null,
            "border": null,
            "align_items": null,
            "bottom": null,
            "_model_module": "@jupyter-widgets/base",
            "top": null,
            "grid_column": null,
            "overflow_y": null,
            "overflow_x": null,
            "grid_auto_flow": null,
            "grid_area": null,
            "grid_template_columns": null,
            "flex": null,
            "_model_name": "LayoutModel",
            "justify_items": null,
            "grid_row": null,
            "max_height": null,
            "align_content": null,
            "visibility": null,
            "align_self": null,
            "height": null,
            "min_height": null,
            "padding": null,
            "grid_auto_rows": null,
            "grid_gap": null,
            "max_width": null,
            "order": null,
            "_view_module_version": "1.2.0",
            "grid_template_areas": null,
            "object_position": null,
            "object_fit": null,
            "grid_auto_columns": null,
            "margin": null,
            "display": null,
            "left": null
          }
        }
      }
    }
  },
  "cells": [
    {
      "cell_type": "markdown",
      "metadata": {
        "id": "ZAAeDJsabLit"
      },
      "source": [
        "**Made By -**\n",
        "\n",
        "1. **Divyansh Sharma (2019A4PS0753G)**\n",
        "2. **Priyansh Bhavesh Parikh (2019A3PS0288G)**\n",
        "3. **Taresh Batra (2019A3PS0388G)** "
      ]
    },
    {
      "cell_type": "markdown",
      "metadata": {
        "id": "l-mxYS_XNVWD"
      },
      "source": [
        "#**Introduction**\n",
        "\n",
        "We have examined the role of skip-connections in moderately deep MLP models (5-6 layers) for the task of image classification. 4 Types of neural networks have been dealt with in this assignment, their names are as follows:\n",
        "\n",
        "1. **No Skip Connection Network (Vanilla Net)**\n",
        "\n",
        "![vanilla net.jpeg](data:image/jpeg;base64,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)\n",
        "\n",
        "2. **Distinct-Source Skip Connection Network (1 and 2 layers skipped)**\n",
        "\n",
        "![distinct source skip.jpeg](data:image/jpeg;base64,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)\n",
        "\n",
        "\n",
        "3. **Shared-Source Skip Connection Network**\n",
        "\n",
        "![shared source skip.jpeg](data:image/jpeg;base64,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)\n",
        "\n",
        "\n",
        "\n",
        "4. **Dense Skip Connection Network**\n",
        "\n",
        "![dense skip.jpeg](data:image/jpeg;base64,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)\n",
        "\n",
        "\n",
        "\n",
        "2 variants of these networks were developed in order to train on the MNIST and CIFAR-10 datasets. These networks have ADAM as the optimizer, cross entropy as the loss function and batch normalization has been applied across all the layers. Regularization techniques haven't been used.\n",
        "\n",
        "**Note:** Since the models have progressively decreaing layers (in terms of dimensions), we have used weight matrices to transform the dimenions as per the requirement in skip conenctions.\n",
        "\n"
      ]
    },
    {
      "cell_type": "markdown",
      "metadata": {
        "id": "gZQjDbTMREns"
      },
      "source": [
        "#**Imports**"
      ]
    },
    {
      "cell_type": "code",
      "metadata": {
        "id": "bbI4MM2SPnP-"
      },
      "source": [
        "import torch\n",
        "import matplotlib.pyplot as plt\n",
        "import numpy as np\n",
        "import math\n",
        "\n",
        "import torchvision\n",
        "import torchvision.transforms as transforms\n",
        "\n",
        "import torch.nn as nn\n",
        "import torch.nn.functional as F\n",
        "import torch.optim as optim"
      ],
      "execution_count": null,
      "outputs": []
    },
    {
      "cell_type": "markdown",
      "metadata": {
        "id": "l7WWJrpCRJKe"
      },
      "source": [
        "#**Standard Parameters**"
      ]
    },
    {
      "cell_type": "code",
      "metadata": {
        "id": "e9HzAz9ZQf6S"
      },
      "source": [
        "batch_size = 64\n",
        "epochs_mnist = 10\n",
        "epochs_cifar10 = 15\n",
        "lr = 0.001\n",
        "device = torch.device(\"cpu\") if not torch.cuda.is_available() else torch.device(\"cuda:0\")\n",
        "criterion = nn.CrossEntropyLoss()"
      ],
      "execution_count": null,
      "outputs": []
    },
    {
      "cell_type": "markdown",
      "metadata": {
        "id": "H-ijGhpxRPQF"
      },
      "source": [
        "#**Loading the Datasets**"
      ]
    },
    {
      "cell_type": "markdown",
      "metadata": {
        "id": "KoVYxrWJzw4Y"
      },
      "source": [
        "**MNIST**"
      ]
    },
    {
      "cell_type": "code",
      "metadata": {
        "id": "2D1b_9E6RVY4",
        "colab": {
          "base_uri": "https://localhost:8080/",
          "height": 467,
          "referenced_widgets": [
            "136eab87b0fc4085849457e21cfd8fdd",
            "ccb1668b0cf646eaaf59d8025580e699",
            "9b8efdf42cc64ed98756f2ec98defef4",
            "60976bae303445d18143995c9be229fb",
            "f946f4ef882b4f36b8f1f4019061a6e4",
            "c69b1ade3e994768b5a5ee60bb0d030d",
            "9cc49ab7db8845a4a679e9db1104464f",
            "81f44f8fa8ed4e2bac4c05721a02998e",
            "1b203b4046bf432793d7225d58f900f3",
            "1fef0322bac44cddadb4fbd5bb619d9c",
            "405253438c9d4be9b62a6a812ea2e5ae",
            "872b0a9b2d6e449e99b296bcae542a16",
            "d9006dfc462e49ff87ce2e35b519c88c",
            "2012bc71e7a74946b763a8ef4aba340a",
            "c27836180be245789eddabae77fdde6a",
            "805c9fba1ad743d98e32d2003898fe12",
            "968af2c32763470aa3097e579a8ef58e",
            "0208d10d4a404735a6c109432a7571a1",
            "48c26a5105604f5b8bf9f02b53cbe028",
            "7bfa88829e7640e6be7575adaaa1fbe5",
            "0b0bcff3d3a34cc8aadda6213637caa3",
            "d219c1352ba549668226c184f6541c1b",
            "11466ee7696b4d0d8820c302776ffa29",
            "758c75d6355c431f9b643a973630ee81",
            "c29bef6a90b445abaa8002115951a326",
            "750a2e5153744cc09513208dd64b6717",
            "3f44af048ede4975a48e5e8e804ae773",
            "12e43a9a82c94e79bc1fd6e408299e29",
            "b70ce25d21aa493c933118b98c35bde2",
            "79042f6be1104ea2926a6df65bfa448f",
            "18e9839c3c8d4757b69d8ac2abcd8c67",
            "a3aefda5fbac475c8daee8e278ce1819",
            "f1ae59cf3ef2425a8e26dbeb2bda0578",
            "b6aacd37342f4cbd8fa10ca1209c351c",
            "504e588a5919479fbecbd8da97410a5a",
            "5a375a11233941ab8c9ea8423eb03c0b",
            "b77a6739a2a6493bb78ac42ef3cb9993",
            "88d3210ab5b54bcfbf9aafa4d8db9bad",
            "7284fc17e5554163b773145c70e99041",
            "347e27d1d0a14f34822f04d970cf318a",
            "86a9ec1b521243db866147cc2139e1ec",
            "85d8cb64e6b84849a2b3f71d0f91a17f",
            "5487cbb3e647459b8c490f7415da4b81",
            "22ea039b9dc940449fe8cd37c0869239"
          ]
        },
        "outputId": "137494d9-c47f-4fa5-b0ca-6e8a9de1fe56"
      },
      "source": [
        "def load_mnist_data(data_dir = \"./data\"):\n",
        "    transform = transforms.Compose([\n",
        "        transforms.ToTensor(),\n",
        "    ])\n",
        "\n",
        "    trainset_mnist = torchvision.datasets.MNIST(\n",
        "        root=data_dir, train=True, download=True, transform=transform)\n",
        "    \n",
        "    testset_mnist = torchvision.datasets.MNIST(\n",
        "        root=data_dir, train=False, download=True, transform=transform)\n",
        "\n",
        "    return trainset_mnist, testset_mnist\n",
        "\n",
        "trainset_mnist, testset_mnist = load_mnist_data()\n",
        "\n",
        "trainset_mnist, validset_mnist = torch.utils.data.random_split(trainset_mnist, [50000, 10000])\n",
        "\n",
        "trainloader_mnist = torch.utils.data.DataLoader(trainset_mnist, batch_size=batch_size,\n",
        "                                          shuffle=True, num_workers=2)\n",
        "\n",
        "validloader_mnist = torch.utils.data.DataLoader(validset_mnist, batch_size=batch_size,\n",
        "                                          shuffle=True, num_workers=2)\n",
        "\n",
        "testloader_mnist = torch.utils.data.DataLoader(testset_mnist, batch_size=batch_size,\n",
        "                                         shuffle=False, num_workers=2)"
      ],
      "execution_count": null,
      "outputs": [
        {
          "output_type": "stream",
          "name": "stdout",
          "text": [
            "Downloading http://yann.lecun.com/exdb/mnist/train-images-idx3-ubyte.gz\n",
            "Downloading http://yann.lecun.com/exdb/mnist/train-images-idx3-ubyte.gz to ./data/MNIST/raw/train-images-idx3-ubyte.gz\n"
          ]
        },
        {
          "output_type": "display_data",
          "data": {
            "application/vnd.jupyter.widget-view+json": {
              "model_id": "136eab87b0fc4085849457e21cfd8fdd",
              "version_minor": 0,
              "version_major": 2
            },
            "text/plain": [
              "  0%|          | 0/9912422 [00:00<?, ?it/s]"
            ]
          },
          "metadata": {}
        },
        {
          "output_type": "stream",
          "name": "stdout",
          "text": [
            "Extracting ./data/MNIST/raw/train-images-idx3-ubyte.gz to ./data/MNIST/raw\n",
            "\n",
            "Downloading http://yann.lecun.com/exdb/mnist/train-labels-idx1-ubyte.gz\n",
            "Downloading http://yann.lecun.com/exdb/mnist/train-labels-idx1-ubyte.gz to ./data/MNIST/raw/train-labels-idx1-ubyte.gz\n"
          ]
        },
        {
          "output_type": "display_data",
          "data": {
            "application/vnd.jupyter.widget-view+json": {
              "model_id": "872b0a9b2d6e449e99b296bcae542a16",
              "version_minor": 0,
              "version_major": 2
            },
            "text/plain": [
              "  0%|          | 0/28881 [00:00<?, ?it/s]"
            ]
          },
          "metadata": {}
        },
        {
          "output_type": "stream",
          "name": "stdout",
          "text": [
            "Extracting ./data/MNIST/raw/train-labels-idx1-ubyte.gz to ./data/MNIST/raw\n",
            "\n",
            "Downloading http://yann.lecun.com/exdb/mnist/t10k-images-idx3-ubyte.gz\n",
            "Downloading http://yann.lecun.com/exdb/mnist/t10k-images-idx3-ubyte.gz to ./data/MNIST/raw/t10k-images-idx3-ubyte.gz\n"
          ]
        },
        {
          "output_type": "display_data",
          "data": {
            "application/vnd.jupyter.widget-view+json": {
              "model_id": "11466ee7696b4d0d8820c302776ffa29",
              "version_minor": 0,
              "version_major": 2
            },
            "text/plain": [
              "  0%|          | 0/1648877 [00:00<?, ?it/s]"
            ]
          },
          "metadata": {}
        },
        {
          "output_type": "stream",
          "name": "stdout",
          "text": [
            "Extracting ./data/MNIST/raw/t10k-images-idx3-ubyte.gz to ./data/MNIST/raw\n",
            "\n",
            "Downloading http://yann.lecun.com/exdb/mnist/t10k-labels-idx1-ubyte.gz\n",
            "Downloading http://yann.lecun.com/exdb/mnist/t10k-labels-idx1-ubyte.gz to ./data/MNIST/raw/t10k-labels-idx1-ubyte.gz\n"
          ]
        },
        {
          "output_type": "display_data",
          "data": {
            "application/vnd.jupyter.widget-view+json": {
              "model_id": "b6aacd37342f4cbd8fa10ca1209c351c",
              "version_minor": 0,
              "version_major": 2
            },
            "text/plain": [
              "  0%|          | 0/4542 [00:00<?, ?it/s]"
            ]
          },
          "metadata": {}
        },
        {
          "output_type": "stream",
          "name": "stdout",
          "text": [
            "Extracting ./data/MNIST/raw/t10k-labels-idx1-ubyte.gz to ./data/MNIST/raw\n",
            "\n"
          ]
        },
        {
          "output_type": "stream",
          "name": "stderr",
          "text": [
            "/usr/local/lib/python3.7/dist-packages/torchvision/datasets/mnist.py:498: UserWarning: The given NumPy array is not writeable, and PyTorch does not support non-writeable tensors. This means you can write to the underlying (supposedly non-writeable) NumPy array using the tensor. You may want to copy the array to protect its data or make it writeable before converting it to a tensor. This type of warning will be suppressed for the rest of this program. (Triggered internally at  /pytorch/torch/csrc/utils/tensor_numpy.cpp:180.)\n",
            "  return torch.from_numpy(parsed.astype(m[2], copy=False)).view(*s)\n"
          ]
        }
      ]
    },
    {
      "cell_type": "markdown",
      "metadata": {
        "id": "_uufFZKe0Jy1"
      },
      "source": [
        "**CIFAR 10**"
      ]
    },
    {
      "cell_type": "code",
      "metadata": {
        "colab": {
          "base_uri": "https://localhost:8080/",
          "height": 99,
          "referenced_widgets": [
            "9b7fa524654f497caefd1e404dbdc20d",
            "96f919a798e2408686bed3ce2c65461b",
            "bd38031a9abd40b283233a4ae462b913",
            "58548751f59541bbb4d3f897ec584df0",
            "c15fac85ab8742f7a0ade92cdb1d51b5",
            "ba4bd0bec5cd4c54b0ef932fef3643cf",
            "b968d558c52745ab9f485dc644790138",
            "1c495c01d8c84827a9a9e98ebc015764",
            "b6871e5e61bd4434a6687bb14e0bff98",
            "65d599759c7648acaa34d1952f5e570d",
            "d4b049173a924786b423579d13d926b8"
          ]
        },
        "id": "cnm2QIBK0Nm0",
        "outputId": "402a17c2-d271-4d65-bc43-481f4f5c2f0d"
      },
      "source": [
        "def load_cifar10_data(data_dir = \"./data\"):\n",
        "    transform = transforms.Compose([\n",
        "        transforms.ToTensor(),\n",
        "    ])\n",
        "\n",
        "    trainset_cifar10 = torchvision.datasets.CIFAR10(\n",
        "        root=data_dir, train=True, download=True, transform=transform)\n",
        "    \n",
        "    testset_cifar10 = torchvision.datasets.CIFAR10(\n",
        "        root=data_dir, train=False, download=True, transform=transform)\n",
        "\n",
        "    return trainset_cifar10, testset_cifar10\n",
        "\n",
        "trainset_cifar10, testset_cifar10 = load_cifar10_data()\n",
        "\n",
        "trainset_cifar10, validset_cifar10 = torch.utils.data.random_split(trainset_cifar10, [40000, 10000])\n",
        "\n",
        "trainloader_cifar10 = torch.utils.data.DataLoader(trainset_cifar10, batch_size=batch_size,\n",
        "                                          shuffle=True, num_workers=2)\n",
        "\n",
        "validloader_cifar10 = torch.utils.data.DataLoader(validset_cifar10, batch_size=batch_size,\n",
        "                                          shuffle=True, num_workers=2)\n",
        "\n",
        "testloader_cifar10 = torch.utils.data.DataLoader(testset_cifar10, batch_size=batch_size,\n",
        "                                         shuffle=False, num_workers=2)"
      ],
      "execution_count": null,
      "outputs": [
        {
          "output_type": "stream",
          "name": "stdout",
          "text": [
            "Downloading https://www.cs.toronto.edu/~kriz/cifar-10-python.tar.gz to ./data/cifar-10-python.tar.gz\n"
          ]
        },
        {
          "output_type": "display_data",
          "data": {
            "application/vnd.jupyter.widget-view+json": {
              "model_id": "9b7fa524654f497caefd1e404dbdc20d",
              "version_minor": 0,
              "version_major": 2
            },
            "text/plain": [
              "  0%|          | 0/170498071 [00:00<?, ?it/s]"
            ]
          },
          "metadata": {}
        },
        {
          "output_type": "stream",
          "name": "stdout",
          "text": [
            "Extracting ./data/cifar-10-python.tar.gz to ./data\n",
            "Files already downloaded and verified\n"
          ]
        }
      ]
    },
    {
      "cell_type": "markdown",
      "metadata": {
        "id": "jskSnFO73FPj"
      },
      "source": [
        "#**Analysis on the MNIST Dataset**"
      ]
    },
    {
      "cell_type": "markdown",
      "metadata": {
        "id": "iulkyu_bTW-F"
      },
      "source": [
        "## **Defining a Vanilla Neural Network (without skip connections)**\n"
      ]
    },
    {
      "cell_type": "code",
      "metadata": {
        "id": "x5y7QaIsThgh"
      },
      "source": [
        "class vanilla_net_mnist(nn.Module):\n",
        "\n",
        "  def __init__(self):\n",
        "        super().__init__()\n",
        "\n",
        "        dimensions = {}\n",
        "        dimensions['Layer 1'] = 256\n",
        "        dimensions['Layer 2'] = 128\n",
        "        dimensions['Layer 3'] = 64\n",
        "        dimensions['Layer 4'] = 32\n",
        "        dimensions['Layer 5'] = 10  # number of classes in MNIST data\n",
        "\n",
        "        self.l1 = nn.Linear(28*28, dimensions['Layer 1'])\n",
        "        self.l2 = nn.Linear(dimensions['Layer 1'], dimensions['Layer 2'])\n",
        "        self.l3 = nn.Linear(dimensions['Layer 2'], dimensions['Layer 3'])        \n",
        "        self.l4 = nn.Linear(dimensions['Layer 3'], dimensions['Layer 4'])\n",
        "        self.l5 = nn.Linear(dimensions['Layer 4'], dimensions['Layer 5'])\n",
        "        \n",
        "        self.bn1 = nn.BatchNorm1d(dimensions['Layer 1'])\n",
        "        self.bn2 = nn.BatchNorm1d(dimensions['Layer 2'])\n",
        "        self.bn3 = nn.BatchNorm1d(dimensions['Layer 3'])\n",
        "        self.bn4 = nn.BatchNorm1d(dimensions['Layer 4'])\n",
        "\n",
        "  def forward(self, x):\n",
        "        x = torch.flatten(x, 1) # flatten all dims except batch\n",
        "        x = F.relu(self.bn1(self.l1(x)))\n",
        "        x = F.relu(self.bn2(self.l2(x)))\n",
        "        x = F.relu(self.bn3(self.l3(x)))\n",
        "        x = F.relu(self.bn4(self.l4(x)))\n",
        "        x = self.l5(x)\n",
        "        return x\n",
        "\n",
        "vanilla_model_mnist = vanilla_net_mnist().to(device)"
      ],
      "execution_count": null,
      "outputs": []
    },
    {
      "cell_type": "markdown",
      "metadata": {
        "id": "EzCCRvZfYIfy"
      },
      "source": [
        "##**Defining a Series of Distinct-Source Skip Connection Neural Networks**\n",
        "\n",
        "The parameter being varied here is the number of layers skipped. We have experimented with this number being 1 and 2, i.e., 1 and 2 layers skipped. The two models are named as distinct_source_skip_net_n_mnist, where n refers to the number of layers skipped.\n",
        "\n"
      ]
    },
    {
      "cell_type": "markdown",
      "metadata": {
        "id": "48nbpgYepAnR"
      },
      "source": [
        "###**Distinct-Source Skip Net With 1 Layer Skipped**"
      ]
    },
    {
      "cell_type": "code",
      "metadata": {
        "id": "n1qgsrkCZCFl"
      },
      "source": [
        "class distinct_source_skip_net_1_mnist(nn.Module):\n",
        "\n",
        "  def __init__(self):\n",
        "      super().__init__()\n",
        "\n",
        "      dimensions = {}\n",
        "      dimensions['Layer 1'] = 256\n",
        "      dimensions['Layer 2'] = 128\n",
        "      dimensions['Layer 3'] = 64\n",
        "      dimensions['Layer 4'] = 32\n",
        "      dimensions['Layer 5'] = 10  # number of classes in MNIST data\n",
        "\n",
        "      self.l1 = nn.Linear(28*28, dimensions['Layer 1'])\n",
        "      self.l2 = nn.Linear(dimensions['Layer 1'], dimensions['Layer 2'])\n",
        "      self.l3 = nn.Linear(dimensions['Layer 2'], dimensions['Layer 3'])        \n",
        "      self.l4 = nn.Linear(dimensions['Layer 3'], dimensions['Layer 4'])\n",
        "      self.l5 = nn.Linear(dimensions['Layer 4'], dimensions['Layer 5'])\n",
        "\n",
        "      self.skip_input_2 = nn.Linear(28*28, dimensions['Layer 2'])\n",
        "      self.skip_1_3 = nn.Linear(dimensions['Layer 1'], dimensions['Layer 3'])\n",
        "      self.skip_2_4 = nn.Linear(dimensions['Layer 2'], dimensions['Layer 4'])\n",
        "      self.skip_3_5 = nn.Linear(dimensions['Layer 3'], dimensions['Layer 5'])\n",
        "\n",
        "      self.bn1 = nn.BatchNorm1d(dimensions['Layer 1'])\n",
        "      self.bn2 = nn.BatchNorm1d(dimensions['Layer 2'])\n",
        "      self.bn3 = nn.BatchNorm1d(dimensions['Layer 3'])\n",
        "      self.bn4 = nn.BatchNorm1d(dimensions['Layer 4'])\n",
        "\n",
        "  def forward(self, x):\n",
        "      x0 = torch.flatten(x, 1) # flatten all dims except batch\n",
        "      x1 = F.relu(self.bn1(self.l1(x0)))\n",
        "      x2 = F.relu(self.bn2(self.l2(x1) + self.skip_input_2(x0)))\n",
        "      x3 = F.relu(self.bn3(self.l3(x2) + self.skip_1_3(x1)))\n",
        "      x4 = F.relu(self.bn4(self.l4(x3) + self.skip_2_4(x2)))\n",
        "      x5 = self.l5(x4) + self.skip_3_5(x3)\n",
        "\n",
        "      return x5\n",
        "\n",
        "\n",
        "dictinct_source_skip_1_model_mnist = distinct_source_skip_net_1_mnist().to(device)"
      ],
      "execution_count": null,
      "outputs": []
    },
    {
      "cell_type": "markdown",
      "metadata": {
        "id": "m_ymwtQ1pPNy"
      },
      "source": [
        "###**Distinct-Source Skip Net With 2 Layers Skipped**"
      ]
    },
    {
      "cell_type": "code",
      "metadata": {
        "id": "D40R6o77gA42"
      },
      "source": [
        "class distinct_source_skip_net_2_mnist(nn.Module):\n",
        "\n",
        "  def __init__(self):\n",
        "      super().__init__()\n",
        "\n",
        "      dimensions = {}\n",
        "      dimensions['Layer 1'] = 256\n",
        "      dimensions['Layer 2'] = 128\n",
        "      dimensions['Layer 3'] = 64\n",
        "      dimensions['Layer 4'] = 32\n",
        "      dimensions['Layer 5'] = 10  # number of classes in MNIST data\n",
        "\n",
        "      self.l1 = nn.Linear(28*28, dimensions['Layer 1'])\n",
        "      self.l2 = nn.Linear(dimensions['Layer 1'], dimensions['Layer 2'])\n",
        "      self.l3 = nn.Linear(dimensions['Layer 2'], dimensions['Layer 3'])        \n",
        "      self.l4 = nn.Linear(dimensions['Layer 3'], dimensions['Layer 4'])\n",
        "      self.l5 = nn.Linear(dimensions['Layer 4'], dimensions['Layer 5'])\n",
        "\n",
        "      self.skip_input_3 = nn.Linear(28*28, dimensions['Layer 3'])\n",
        "      self.skip_1_4 = nn.Linear(dimensions['Layer 1'], dimensions['Layer 4'])\n",
        "      self.skip_2_5 = nn.Linear(dimensions['Layer 2'], dimensions['Layer 5'])\n",
        "\n",
        "      self.bn1 = nn.BatchNorm1d(dimensions['Layer 1'])\n",
        "      self.bn2 = nn.BatchNorm1d(dimensions['Layer 2'])\n",
        "      self.bn3 = nn.BatchNorm1d(dimensions['Layer 3'])\n",
        "      self.bn4 = nn.BatchNorm1d(dimensions['Layer 4']) \n",
        "\n",
        "  def forward(self, x):\n",
        "      x0 = torch.flatten(x, 1) # flatten all dims except batch\n",
        "      x1 = F.relu(self.bn1(self.l1(x0)))\n",
        "      x2 = F.relu(self.bn2(self.l2(x1)))\n",
        "      x3 = F.relu(self.bn3(self.l3(x2) + self.skip_input_3(x0)))\n",
        "      x4 = F.relu(self.bn4(self.l4(x3) + self.skip_1_4(x1)))\n",
        "      x5 = self.l5(x4) + self.skip_2_5(x2)\n",
        "      return x5\n",
        "\n",
        "\n",
        "dictinct_source_skip_2_model_mnist = distinct_source_skip_net_2_mnist().to(device)"
      ],
      "execution_count": null,
      "outputs": []
    },
    {
      "cell_type": "markdown",
      "metadata": {
        "id": "9o2iwlDshPf5"
      },
      "source": [
        "##**Defining a Shared-Source Skip Connection Neural Network**"
      ]
    },
    {
      "cell_type": "code",
      "metadata": {
        "id": "GC0THNoohMqj"
      },
      "source": [
        "class shared_source_skip_net_mnist(nn.Module):\n",
        "\n",
        "  def __init__(self):\n",
        "      super().__init__()\n",
        "\n",
        "      dimensions = {}\n",
        "      dimensions['Layer 1'] = 256\n",
        "      dimensions['Layer 2'] = 128\n",
        "      dimensions['Layer 3'] = 64\n",
        "      dimensions['Layer 4'] = 32\n",
        "      dimensions['Layer 5'] = 10  # number of classes in MNIST data\n",
        "\n",
        "      self.l1 = nn.Linear(28*28, dimensions['Layer 1'])\n",
        "      self.l2 = nn.Linear(dimensions['Layer 1'], dimensions['Layer 2'])\n",
        "      self.l3 = nn.Linear(dimensions['Layer 2'], dimensions['Layer 3'])        \n",
        "      self.l4 = nn.Linear(dimensions['Layer 3'], dimensions['Layer 4'])\n",
        "      self.l5 = nn.Linear(dimensions['Layer 4'], dimensions['Layer 5'])\n",
        "\n",
        "      self.skip_input_2 = nn.Linear(28*28, dimensions['Layer 2'])\n",
        "      self.skip_input_3 = nn.Linear(28*28, dimensions['Layer 3'])\n",
        "      self.skip_input_4 = nn.Linear(28*28, dimensions['Layer 4'])\n",
        "      self.skip_input_5 = nn.Linear(28*28, dimensions['Layer 5'])\n",
        "\n",
        "      self.bn1 = nn.BatchNorm1d(dimensions['Layer 1'])\n",
        "      self.bn2 = nn.BatchNorm1d(dimensions['Layer 2'])\n",
        "      self.bn3 = nn.BatchNorm1d(dimensions['Layer 3'])\n",
        "      self.bn4 = nn.BatchNorm1d(dimensions['Layer 4'])\n",
        "\n",
        "  def forward(self, x):\n",
        "      x0 = torch.flatten(x, 1) # flatten all dims except batch\n",
        "      x1 = F.relu(self.bn1(self.l1(x0)))\n",
        "      x2 = F.relu(self.bn2(self.l2(x1) + self.skip_input_2(x0)))\n",
        "      x3 = F.relu(self.bn3(self.l3(x2) + self.skip_input_3(x0)))\n",
        "      x4 = F.relu(self.bn4(self.l4(x3) + self.skip_input_4(x0)))\n",
        "      x5 = self.l5(x4) + self.skip_input_5(x0)\n",
        "      return x5\n",
        "\n",
        "\n",
        "shared_source_skip_model_mnist = shared_source_skip_net_mnist().to(device)"
      ],
      "execution_count": null,
      "outputs": []
    },
    {
      "cell_type": "markdown",
      "metadata": {
        "id": "SoDiYp33kVyF"
      },
      "source": [
        "##**Defining a Dense Skip Connection Neural Network**"
      ]
    },
    {
      "cell_type": "code",
      "metadata": {
        "id": "NhZdp2P5jXuq"
      },
      "source": [
        "class dense_skip_net_mnist(nn.Module):\n",
        "\n",
        "  def __init__(self):\n",
        "      super().__init__()\n",
        "\n",
        "      dimensions = {}\n",
        "      dimensions['Layer 1'] = 256\n",
        "      dimensions['Layer 2'] = 128\n",
        "      dimensions['Layer 3'] = 64\n",
        "      dimensions['Layer 4'] = 32\n",
        "      dimensions['Layer 5'] = 10  # number of classes in MNIST data\n",
        "\n",
        "      self.l1 = nn.Linear(28*28, dimensions['Layer 1'])\n",
        "      self.l2 = nn.Linear(dimensions['Layer 1'], dimensions['Layer 2'])\n",
        "      self.l3 = nn.Linear(dimensions['Layer 2'], dimensions['Layer 3'])        \n",
        "      self.l4 = nn.Linear(dimensions['Layer 3'], dimensions['Layer 4'])\n",
        "      self.l5 = nn.Linear(dimensions['Layer 4'], dimensions['Layer 5'])\n",
        "\n",
        "      # from input\n",
        "      self.skip_input_2 = nn.Linear(28*28, dimensions['Layer 2'])\n",
        "      self.skip_input_3 = nn.Linear(28*28, dimensions['Layer 3'])\n",
        "      self.skip_input_4 = nn.Linear(28*28, dimensions['Layer 4'])\n",
        "      self.skip_input_5 = nn.Linear(28*28, dimensions['Layer 5'])\n",
        "\n",
        "      # from layer 1\n",
        "      self.skip_1_3 = nn.Linear(dimensions['Layer 1'], dimensions['Layer 3'])\n",
        "      self.skip_1_4 = nn.Linear(dimensions['Layer 1'], dimensions['Layer 4'])\n",
        "      self.skip_1_5 = nn.Linear(dimensions['Layer 1'], dimensions['Layer 5'])\n",
        "      \n",
        "      # from layer 2\n",
        "      self.skip_2_4 = nn.Linear(dimensions['Layer 2'], dimensions['Layer 4'])\n",
        "      self.skip_2_5 = nn.Linear(dimensions['Layer 2'], dimensions['Layer 5'])\n",
        "\n",
        "      # from layer 3\n",
        "      self.skip_3_5 = nn.Linear(dimensions['Layer 3'], dimensions['Layer 5'])\n",
        "\n",
        "      self.bn1 = nn.BatchNorm1d(dimensions['Layer 1'])\n",
        "      self.bn2 = nn.BatchNorm1d(dimensions['Layer 2'])\n",
        "      self.bn3 = nn.BatchNorm1d(dimensions['Layer 3'])\n",
        "      self.bn4 = nn.BatchNorm1d(dimensions['Layer 4'])\n",
        "\n",
        "  def forward(self, x):\n",
        "      x0 = torch.flatten(x, 1) # flatten all dims except batch\n",
        "      x1 = F.relu(self.bn1(self.l1(x0)))\n",
        "      x2 = F.relu(self.bn2(self.l2(x1) + self.skip_input_2(x0)))\n",
        "      x3 = F.relu(self.bn3(self.l3(x2) + self.skip_input_3(x0) + self.skip_1_3(x1)))\n",
        "      x4 = F.relu(self.bn4(self.l4(x3) + self.skip_input_4(x0) + self.skip_1_4(x1) + self.skip_2_4(x2)))\n",
        "      x5 = self.l5(x4) + self.skip_input_5(x0) + self.skip_1_5(x1) + self.skip_2_5(x2) + self.skip_3_5(x3)\n",
        "      return x5\n",
        "\n",
        "\n",
        "dense_skip_model_mnist = dense_skip_net_mnist().to(device)"
      ],
      "execution_count": null,
      "outputs": []
    },
    {
      "cell_type": "markdown",
      "metadata": {
        "id": "53LLftRopdr5"
      },
      "source": [
        "##**Training the Models**"
      ]
    },
    {
      "cell_type": "markdown",
      "metadata": {
        "id": "zcDCEqYHsfDw"
      },
      "source": [
        "**Defining the Training Function**"
      ]
    },
    {
      "cell_type": "code",
      "metadata": {
        "id": "OtLSDnjHpc5w"
      },
      "source": [
        "def train_mnist(model):\n",
        "\n",
        "  # defining the optimizer\n",
        "  optimizer = optim.Adam(model.parameters(), lr=lr)\n",
        "  best_model = model\n",
        "  min_valid_loss = math.inf\n",
        "  training_loss_list = []\n",
        "  validation_loss_list = []\n",
        "\n",
        "  for epoch in range(epochs_mnist):\n",
        "    running_loss = 0.0\n",
        "    train_loss = 0.0\n",
        "    epoch_steps = 0\n",
        "\n",
        "    for i, data in enumerate(trainloader_mnist, 0):\n",
        "          \n",
        "          inputs, labels = data\n",
        "          inputs, labels = inputs.to(device), labels.to(device)\n",
        "\n",
        "          # zero the parameter gradients\n",
        "          optimizer.zero_grad()\n",
        "\n",
        "          # forward + backward + optimize\n",
        "          outputs = model(inputs)\n",
        "          loss = criterion(outputs, labels)\n",
        "          loss.backward()\n",
        "          optimizer.step()\n",
        "\n",
        "          # print statistics\n",
        "          running_loss += loss.item()\n",
        "          train_loss += loss.item()\n",
        "          epoch_steps += 1\n",
        "          if i % 500 == 499:  # print every 500 mini-batches\n",
        "              print(\"[%d, %5d] loss: %.3f\" % (epoch + 1, i + 1,\n",
        "                                              running_loss / epoch_steps))\n",
        "              running_loss = 0.0\n",
        "  \n",
        "    val_loss = 0.0\n",
        "    val_steps = 0\n",
        "    total = 0\n",
        "    correct = 0\n",
        "\n",
        "    # finding the generalization error\n",
        "    for i, data in enumerate(validloader_mnist, 0):\n",
        "        with torch.no_grad():\n",
        "            inputs, labels = data\n",
        "            inputs, labels = inputs.to(device), labels.to(device)\n",
        "\n",
        "            outputs = model(inputs)\n",
        "            _, predicted = torch.max(outputs.data, 1)\n",
        "            total += labels.size(0)\n",
        "            correct += (predicted == labels).sum().item()\n",
        "\n",
        "            loss = criterion(outputs, labels)\n",
        "            val_loss += loss.cpu().numpy()\n",
        "            val_steps += 1\n",
        "\n",
        "    # to get the model with the least generalization error\n",
        "    if (val_loss <= min_valid_loss):\n",
        "      best_model = model\n",
        "      min_valid_loss = val_loss\n",
        "\n",
        "    training_loss_list.append(train_loss/len(trainloader_mnist))\n",
        "    validation_loss_list.append(val_loss/len(validloader_mnist))\n",
        "\n",
        "    print(f\"Epoch {epoch+1} training loss = {train_loss/len(trainloader_mnist):.2f} validation loss: {val_loss/len(validloader_mnist):.2f}\")\n",
        "\n",
        "  model = best_model\n",
        "\n",
        "  # plotting the training process\n",
        "  plt.plot(training_loss_list, 'r', label = 'Training Loss')\n",
        "  plt.plot(validation_loss_list, 'g', label = 'Validation Loss')\n",
        "  plt.legend()\n",
        "  plt.show()"
      ],
      "execution_count": null,
      "outputs": []
    },
    {
      "cell_type": "markdown",
      "metadata": {
        "id": "If4gI4y0smNt"
      },
      "source": [
        "**Training vanilla_model_mnist**"
      ]
    },
    {
      "cell_type": "code",
      "metadata": {
        "colab": {
          "base_uri": "https://localhost:8080/",
          "height": 604
        },
        "id": "84DmAppHslNs",
        "outputId": "cb9e17f7-152f-41de-c93a-4c5df6640ed0"
      },
      "source": [
        "train_mnist(vanilla_model_mnist)"
      ],
      "execution_count": null,
      "outputs": [
        {
          "output_type": "stream",
          "name": "stdout",
          "text": [
            "[1,   500] loss: 0.434\n",
            "Epoch 1 training loss = 0.34 validation loss: 0.16\n",
            "[2,   500] loss: 0.111\n",
            "Epoch 2 training loss = 0.11 validation loss: 0.12\n",
            "[3,   500] loss: 0.077\n",
            "Epoch 3 training loss = 0.08 validation loss: 0.10\n",
            "[4,   500] loss: 0.058\n",
            "Epoch 4 training loss = 0.06 validation loss: 0.10\n",
            "[5,   500] loss: 0.050\n",
            "Epoch 5 training loss = 0.05 validation loss: 0.10\n",
            "[6,   500] loss: 0.045\n",
            "Epoch 6 training loss = 0.05 validation loss: 0.10\n",
            "[7,   500] loss: 0.035\n",
            "Epoch 7 training loss = 0.04 validation loss: 0.10\n",
            "[8,   500] loss: 0.031\n",
            "Epoch 8 training loss = 0.03 validation loss: 0.09\n",
            "[9,   500] loss: 0.030\n",
            "Epoch 9 training loss = 0.03 validation loss: 0.09\n",
            "[10,   500] loss: 0.027\n",
            "Epoch 10 training loss = 0.03 validation loss: 0.09\n"
          ]
        },
        {
          "output_type": "display_data",
          "data": {
            "image/png": "[encoded data removed]",
            "text/plain": [
              "<Figure size 432x288 with 1 Axes>"
            ]
          },
          "metadata": {
            "needs_background": "light"
          }
        }
      ]
    },
    {
      "cell_type": "markdown",
      "metadata": {
        "id": "zgYggM3rt_HJ"
      },
      "source": [
        "**Training dictinct_source_skip_1_model_mnist**"
      ]
    },
    {
      "cell_type": "code",
      "metadata": {
        "colab": {
          "base_uri": "https://localhost:8080/",
          "height": 601
        },
        "id": "gSafoZpro1Rv",
        "outputId": "747e2821-aefc-4b1a-e377-7bb2859698fe"
      },
      "source": [
        "train_mnist(dictinct_source_skip_1_model_mnist)"
      ],
      "execution_count": null,
      "outputs": [
        {
          "output_type": "stream",
          "name": "stdout",
          "text": [
            "[1,   500] loss: 0.274\n",
            "Epoch 1 training loss = 0.22 validation loss: 0.13\n",
            "[2,   500] loss: 0.092\n",
            "Epoch 2 training loss = 0.09 validation loss: 0.11\n",
            "[3,   500] loss: 0.061\n",
            "Epoch 3 training loss = 0.06 validation loss: 0.09\n",
            "[4,   500] loss: 0.049\n",
            "Epoch 4 training loss = 0.05 validation loss: 0.08\n",
            "[5,   500] loss: 0.037\n",
            "Epoch 5 training loss = 0.04 validation loss: 0.10\n",
            "[6,   500] loss: 0.032\n",
            "Epoch 6 training loss = 0.03 validation loss: 0.09\n",
            "[7,   500] loss: 0.025\n",
            "Epoch 7 training loss = 0.03 validation loss: 0.09\n",
            "[8,   500] loss: 0.023\n",
            "Epoch 8 training loss = 0.02 validation loss: 0.09\n",
            "[9,   500] loss: 0.018\n",
            "Epoch 9 training loss = 0.02 validation loss: 0.08\n",
            "[10,   500] loss: 0.018\n",
            "Epoch 10 training loss = 0.02 validation loss: 0.09\n"
          ]
        },
        {
          "output_type": "display_data",
          "data": {
            "image/png": "[encoded data removed]",
            "text/plain": [
              "<Figure size 432x288 with 1 Axes>"
            ]
          },
          "metadata": {
            "needs_background": "light"
          }
        }
      ]
    },
    {
      "cell_type": "markdown",
      "metadata": {
        "id": "0sEdS9Vvvf6m"
      },
      "source": [
        "**Training dictinct_source_skip_2_model_mnist**"
      ]
    },
    {
      "cell_type": "code",
      "metadata": {
        "id": "eGg4mHeyuLDB",
        "colab": {
          "base_uri": "https://localhost:8080/",
          "height": 601
        },
        "outputId": "bc095b1d-fdfb-4493-b588-588eede030a9"
      },
      "source": [
        "train_mnist(dictinct_source_skip_2_model_mnist)"
      ],
      "execution_count": null,
      "outputs": [
        {
          "output_type": "stream",
          "name": "stdout",
          "text": [
            "[1,   500] loss: 0.252\n",
            "Epoch 1 training loss = 0.21 validation loss: 0.12\n",
            "[2,   500] loss: 0.088\n",
            "Epoch 2 training loss = 0.09 validation loss: 0.10\n",
            "[3,   500] loss: 0.060\n",
            "Epoch 3 training loss = 0.06 validation loss: 0.10\n",
            "[4,   500] loss: 0.043\n",
            "Epoch 4 training loss = 0.05 validation loss: 0.10\n",
            "[5,   500] loss: 0.030\n",
            "Epoch 5 training loss = 0.04 validation loss: 0.09\n",
            "[6,   500] loss: 0.030\n",
            "Epoch 6 training loss = 0.03 validation loss: 0.09\n",
            "[7,   500] loss: 0.024\n",
            "Epoch 7 training loss = 0.03 validation loss: 0.08\n",
            "[8,   500] loss: 0.020\n",
            "Epoch 8 training loss = 0.02 validation loss: 0.09\n",
            "[9,   500] loss: 0.018\n",
            "Epoch 9 training loss = 0.02 validation loss: 0.09\n",
            "[10,   500] loss: 0.017\n",
            "Epoch 10 training loss = 0.02 validation loss: 0.09\n"
          ]
        },
        {
          "output_type": "display_data",
          "data": {
            "image/png": "[encoded data removed]",
            "text/plain": [
              "<Figure size 432x288 with 1 Axes>"
            ]
          },
          "metadata": {
            "needs_background": "light"
          }
        }
      ]
    },
    {
      "cell_type": "markdown",
      "metadata": {
        "id": "7SNzmBc-wqL5"
      },
      "source": [
        "**Training shared_source_skip_model_mnist**"
      ]
    },
    {
      "cell_type": "code",
      "metadata": {
        "id": "MlV8wTL4voSX",
        "colab": {
          "base_uri": "https://localhost:8080/",
          "height": 601
        },
        "outputId": "a3761994-a5d8-443a-99ad-44985d78841f"
      },
      "source": [
        "train_mnist(shared_source_skip_model_mnist)"
      ],
      "execution_count": null,
      "outputs": [
        {
          "output_type": "stream",
          "name": "stdout",
          "text": [
            "[1,   500] loss: 0.322\n",
            "Epoch 1 training loss = 0.26 validation loss: 0.14\n",
            "[2,   500] loss: 0.104\n",
            "Epoch 2 training loss = 0.10 validation loss: 0.10\n",
            "[3,   500] loss: 0.067\n",
            "Epoch 3 training loss = 0.07 validation loss: 0.11\n",
            "[4,   500] loss: 0.049\n",
            "Epoch 4 training loss = 0.05 validation loss: 0.11\n",
            "[5,   500] loss: 0.038\n",
            "Epoch 5 training loss = 0.04 validation loss: 0.10\n",
            "[6,   500] loss: 0.031\n",
            "Epoch 6 training loss = 0.03 validation loss: 0.10\n",
            "[7,   500] loss: 0.029\n",
            "Epoch 7 training loss = 0.03 validation loss: 0.10\n",
            "[8,   500] loss: 0.025\n",
            "Epoch 8 training loss = 0.03 validation loss: 0.10\n",
            "[9,   500] loss: 0.023\n",
            "Epoch 9 training loss = 0.02 validation loss: 0.09\n",
            "[10,   500] loss: 0.013\n",
            "Epoch 10 training loss = 0.02 validation loss: 0.10\n"
          ]
        },
        {
          "output_type": "display_data",
          "data": {
            "image/png": "[encoded data removed]",
            "text/plain": [
              "<Figure size 432x288 with 1 Axes>"
            ]
          },
          "metadata": {
            "needs_background": "light"
          }
        }
      ]
    },
    {
      "cell_type": "markdown",
      "metadata": {
        "id": "27YLinpKwzBL"
      },
      "source": [
        "**Training dense_skip_model_mnist**"
      ]
    },
    {
      "cell_type": "code",
      "metadata": {
        "id": "c0_mRl7qw7Am",
        "colab": {
          "base_uri": "https://localhost:8080/",
          "height": 601
        },
        "outputId": "cf4322b7-c2ea-4975-8920-fd2525fdf728"
      },
      "source": [
        "train_mnist(dense_skip_model_mnist)"
      ],
      "execution_count": null,
      "outputs": [
        {
          "output_type": "stream",
          "name": "stdout",
          "text": [
            "[1,   500] loss: 0.222\n",
            "Epoch 1 training loss = 0.19 validation loss: 0.13\n",
            "[2,   500] loss: 0.088\n",
            "Epoch 2 training loss = 0.09 validation loss: 0.11\n",
            "[3,   500] loss: 0.056\n",
            "Epoch 3 training loss = 0.06 validation loss: 0.09\n",
            "[4,   500] loss: 0.044\n",
            "Epoch 4 training loss = 0.04 validation loss: 0.10\n",
            "[5,   500] loss: 0.032\n",
            "Epoch 5 training loss = 0.03 validation loss: 0.08\n",
            "[6,   500] loss: 0.029\n",
            "Epoch 6 training loss = 0.03 validation loss: 0.09\n",
            "[7,   500] loss: 0.022\n",
            "Epoch 7 training loss = 0.02 validation loss: 0.09\n",
            "[8,   500] loss: 0.015\n",
            "Epoch 8 training loss = 0.02 validation loss: 0.10\n",
            "[9,   500] loss: 0.015\n",
            "Epoch 9 training loss = 0.02 validation loss: 0.10\n",
            "[10,   500] loss: 0.015\n",
            "Epoch 10 training loss = 0.02 validation loss: 0.11\n"
          ]
        },
        {
          "output_type": "display_data",
          "data": {
            "image/png": "[encoded data removed]",
            "text/plain": [
              "<Figure size 432x288 with 1 Axes>"
            ]
          },
          "metadata": {
            "needs_background": "light"
          }
        }
      ]
    },
    {
      "cell_type": "markdown",
      "metadata": {
        "id": "NOYfqqujxd2M"
      },
      "source": [
        "##**Testing the Models**"
      ]
    },
    {
      "cell_type": "markdown",
      "metadata": {
        "id": "7G5bTeRRxmGY"
      },
      "source": [
        "**Defining the Test Function**"
      ]
    },
    {
      "cell_type": "code",
      "metadata": {
        "id": "NU8SqfOsxhRH"
      },
      "source": [
        "def test_mnist(model):\n",
        "  model.eval()\n",
        "\n",
        "  total = 0\n",
        "  correct = 0\n",
        "  val_loss = 0.0\n",
        "  val_steps = 0\n",
        "  for inputs, labels in testloader_mnist:\n",
        "    with torch.no_grad():\n",
        "      if torch.cuda.is_available():\n",
        "        inputs, labels = inputs.cuda(), labels.cuda()\n",
        "\n",
        "        outputs = model(inputs)\n",
        "        _, predicted = torch.max(outputs.data, 1)\n",
        "        total += labels.size(0)\n",
        "        correct += (predicted == labels).sum().item()\n",
        "\n",
        "        loss = criterion(outputs, labels)\n",
        "        val_loss += loss.item()\n",
        "        val_steps += 1\n",
        "        \n",
        "  print(\"Accuracy = \", correct/total)"
      ],
      "execution_count": null,
      "outputs": []
    },
    {
      "cell_type": "markdown",
      "metadata": {
        "id": "BMusLFHg1obx"
      },
      "source": [
        "**Testing vanilla_model_mnist**"
      ]
    },
    {
      "cell_type": "code",
      "metadata": {
        "colab": {
          "base_uri": "https://localhost:8080/"
        },
        "id": "alDSaaIxyaO4",
        "outputId": "2a00d6ee-a013-43b4-c15e-ddb7697f8159"
      },
      "source": [
        "test_mnist(vanilla_model_mnist)"
      ],
      "execution_count": null,
      "outputs": [
        {
          "output_type": "stream",
          "name": "stdout",
          "text": [
            "Accuracy =  0.9814\n"
          ]
        }
      ]
    },
    {
      "cell_type": "markdown",
      "metadata": {
        "id": "-y3WiRvL2FlU"
      },
      "source": [
        "**Testing dictinct_source_skip_1_model_mnist**"
      ]
    },
    {
      "cell_type": "code",
      "metadata": {
        "colab": {
          "base_uri": "https://localhost:8080/"
        },
        "id": "4I7obRGP2EvU",
        "outputId": "6f57438c-31e3-48bc-fd28-24bc8faeee31"
      },
      "source": [
        "test_mnist(dictinct_source_skip_1_model_mnist)"
      ],
      "execution_count": null,
      "outputs": [
        {
          "output_type": "stream",
          "name": "stdout",
          "text": [
            "Accuracy =  0.98\n"
          ]
        }
      ]
    },
    {
      "cell_type": "markdown",
      "metadata": {
        "id": "loptpAtG2PEK"
      },
      "source": [
        "**Testing dictinct_source_skip_2_model_mnist**"
      ]
    },
    {
      "cell_type": "code",
      "metadata": {
        "id": "bZoQJ1LU2WLp",
        "colab": {
          "base_uri": "https://localhost:8080/"
        },
        "outputId": "d033cf6a-ef65-4772-fbb9-b3cf9691bee7"
      },
      "source": [
        "test_mnist(dictinct_source_skip_2_model_mnist)"
      ],
      "execution_count": null,
      "outputs": [
        {
          "output_type": "stream",
          "name": "stdout",
          "text": [
            "Accuracy =  0.9803\n"
          ]
        }
      ]
    },
    {
      "cell_type": "markdown",
      "metadata": {
        "id": "mkh-dYwD2ZzS"
      },
      "source": [
        "**Testing shared_source_skip_model_mnist**"
      ]
    },
    {
      "cell_type": "code",
      "metadata": {
        "id": "14p5n8VJ2kK7",
        "colab": {
          "base_uri": "https://localhost:8080/"
        },
        "outputId": "d0e9d3ab-8270-4689-d58c-803898cb9a48"
      },
      "source": [
        "test_mnist(shared_source_skip_model_mnist)"
      ],
      "execution_count": null,
      "outputs": [
        {
          "output_type": "stream",
          "name": "stdout",
          "text": [
            "Accuracy =  0.9779\n"
          ]
        }
      ]
    },
    {
      "cell_type": "markdown",
      "metadata": {
        "id": "ppAENBVO2ohf"
      },
      "source": [
        "**Traing dense_skip_model_mnist**"
      ]
    },
    {
      "cell_type": "code",
      "metadata": {
        "id": "eihsi9oV2uBk",
        "colab": {
          "base_uri": "https://localhost:8080/"
        },
        "outputId": "b33f8fd8-f436-4687-e02b-ce1c1fcf82d4"
      },
      "source": [
        "test_mnist(dense_skip_model_mnist)"
      ],
      "execution_count": null,
      "outputs": [
        {
          "output_type": "stream",
          "name": "stdout",
          "text": [
            "Accuracy =  0.9778\n"
          ]
        }
      ]
    },
    {
      "cell_type": "markdown",
      "metadata": {
        "id": "A5O5BKG0QDj_"
      },
      "source": [
        "##**Interpreting the Results on MNIST**\n",
        "\n",
        "It seems like skip connections do not help the performance of the vanilla MLP. The accuracies of all networks are similar on the testset. These accuracies vary slightly depending on the training-validation split. Thus, we did not see it fit to rank these networks based on their accuracies.\n",
        "\n",
        "Therefore, the results lead us to believe that skip connections do not help improve shallow MLPs on image classification tasks (atleast)."
      ]
    },
    {
      "cell_type": "markdown",
      "metadata": {
        "id": "YkSERPZJSTil"
      },
      "source": [
        "#**Analysis on the CIFAR 10 Dataset**"
      ]
    },
    {
      "cell_type": "markdown",
      "metadata": {
        "id": "HIzltw0ITPhD"
      },
      "source": [
        "## **Defining a Vanilla Neural Network (without skip connections)**"
      ]
    },
    {
      "cell_type": "code",
      "metadata": {
        "id": "-sHQtAgFSibU"
      },
      "source": [
        "class vanilla_net_cifar10(nn.Module):\n",
        "\n",
        "  def __init__(self):\n",
        "        super().__init__()\n",
        "\n",
        "        dimensions = {}\n",
        "        dimensions['Layer 1'] = 512\n",
        "        dimensions['Layer 2'] = 256\n",
        "        dimensions['Layer 3'] = 128\n",
        "        dimensions['Layer 4'] = 64\n",
        "        dimensions['Layer 5'] = 32  \n",
        "        dimensions['Layer 6'] = 10 # number of classes in CIFAR 10 data\n",
        "\n",
        "        self.l1 = nn.Linear(32*32*3, dimensions['Layer 1'])\n",
        "        self.l2 = nn.Linear(dimensions['Layer 1'], dimensions['Layer 2'])\n",
        "        self.l3 = nn.Linear(dimensions['Layer 2'], dimensions['Layer 3'])        \n",
        "        self.l4 = nn.Linear(dimensions['Layer 3'], dimensions['Layer 4'])\n",
        "        self.l5 = nn.Linear(dimensions['Layer 4'], dimensions['Layer 5'])\n",
        "        self.l6 = nn.Linear(dimensions['Layer 5'], dimensions['Layer 6'])\n",
        "\n",
        "        self.bn1 = nn.BatchNorm1d(dimensions['Layer 1'])\n",
        "        self.bn2 = nn.BatchNorm1d(dimensions['Layer 2'])\n",
        "        self.bn3 = nn.BatchNorm1d(dimensions['Layer 3'])\n",
        "        self.bn4 = nn.BatchNorm1d(dimensions['Layer 4'])\n",
        "        self.bn5 = nn.BatchNorm1d(dimensions['Layer 5'])\n",
        "\n",
        "  def forward(self, x):\n",
        "        x = torch.flatten(x, 1) # flatten all dims except batch\n",
        "        x = F.relu(self.bn1(self.l1(x)))\n",
        "        x = F.relu(self.bn2(self.l2(x)))\n",
        "        x = F.relu(self.bn3(self.l3(x)))\n",
        "        x = F.relu(self.bn4(self.l4(x)))\n",
        "        x = F.relu(self.bn5(self.l5(x)))\n",
        "        x = self.l6(x)\n",
        "        return x\n",
        "\n",
        "vanilla_model_cifar10 = vanilla_net_cifar10().to(device)"
      ],
      "execution_count": null,
      "outputs": []
    },
    {
      "cell_type": "markdown",
      "metadata": {
        "id": "Svy0FCxsWxCE"
      },
      "source": [
        "##**Defining a Series of Distinct-Source Skip Connection Neural Networks**\n",
        "\n",
        "The parameter being varied here is the number of layers skipped. We have experimented with this number being 1 and 2, i.e., 1 and 2 layers skipped. The two models are named as distinct_source_skip_net_n_cifar10, where n refers to the number of layers skipped."
      ]
    },
    {
      "cell_type": "markdown",
      "metadata": {
        "id": "O6aFEMirXGLx"
      },
      "source": [
        "###**Distinct-Source Skip Net With 1 Layer Skipped**"
      ]
    },
    {
      "cell_type": "code",
      "metadata": {
        "id": "nT7UEu2vWwR2"
      },
      "source": [
        "class distinct_source_skip_net_1_cifar10(nn.Module):\n",
        "\n",
        "  def __init__(self):\n",
        "      super().__init__()\n",
        "\n",
        "      dimensions = {}\n",
        "      dimensions['Layer 1'] = 512\n",
        "      dimensions['Layer 2'] = 256\n",
        "      dimensions['Layer 3'] = 128\n",
        "      dimensions['Layer 4'] = 64\n",
        "      dimensions['Layer 5'] = 32  \n",
        "      dimensions['Layer 6'] = 10 # number of classes in CIFAR 10 data\n",
        "\n",
        "      self.l1 = nn.Linear(32*32*3, dimensions['Layer 1'])\n",
        "      self.l2 = nn.Linear(dimensions['Layer 1'], dimensions['Layer 2'])\n",
        "      self.l3 = nn.Linear(dimensions['Layer 2'], dimensions['Layer 3'])        \n",
        "      self.l4 = nn.Linear(dimensions['Layer 3'], dimensions['Layer 4'])\n",
        "      self.l5 = nn.Linear(dimensions['Layer 4'], dimensions['Layer 5'])\n",
        "      self.l6 = nn.Linear(dimensions['Layer 5'], dimensions['Layer 6'])\n",
        "              \n",
        "\n",
        "      self.skip_input_2 = nn.Linear(32*32*3, dimensions['Layer 2'])\n",
        "      self.skip_1_3 = nn.Linear(dimensions['Layer 1'], dimensions['Layer 3'])\n",
        "      self.skip_2_4 = nn.Linear(dimensions['Layer 2'], dimensions['Layer 4'])\n",
        "      self.skip_3_5 = nn.Linear(dimensions['Layer 3'], dimensions['Layer 5'])\n",
        "      self.skip_4_6 = nn.Linear(dimensions['Layer 4'], dimensions['Layer 6'])\n",
        "        \n",
        "      self.bn1 = nn.BatchNorm1d(dimensions['Layer 1'])\n",
        "      self.bn2 = nn.BatchNorm1d(dimensions['Layer 2'])\n",
        "      self.bn3 = nn.BatchNorm1d(dimensions['Layer 3'])\n",
        "      self.bn4 = nn.BatchNorm1d(dimensions['Layer 4'])\n",
        "      self.bn5 = nn.BatchNorm1d(dimensions['Layer 5'])\n",
        "\n",
        "  def forward(self, x):\n",
        "      x0 = torch.flatten(x, 1) # flatten all dims except batch\n",
        "      x1 = F.relu(self.bn1(self.l1(x0)))\n",
        "      x2 = F.relu(self.bn2(self.l2(x1) + self.skip_input_2(x0)))\n",
        "      x3 = F.relu(self.bn3(self.l3(x2) + self.skip_1_3(x1)))\n",
        "      x4 = F.relu(self.bn4(self.l4(x3) + self.skip_2_4(x2)))\n",
        "      x5 = F.relu(self.bn5(self.l5(x4) + self.skip_3_5(x3)))\n",
        "      x6 = self.l6(x5) + self.skip_4_6(x4)\n",
        "      return x6\n",
        "\n",
        "\n",
        "dictinct_source_skip_1_model_cifar10 = distinct_source_skip_net_1_cifar10().to(device)"
      ],
      "execution_count": null,
      "outputs": []
    },
    {
      "cell_type": "markdown",
      "metadata": {
        "id": "8MD923E0YZW2"
      },
      "source": [
        "###**Distinct-Source Skip Net With 2 Layers Skipped**"
      ]
    },
    {
      "cell_type": "code",
      "metadata": {
        "id": "ysLSL8PBWu50"
      },
      "source": [
        "class distinct_source_skip_net_2_cifar10(nn.Module):\n",
        "\n",
        "  def __init__(self):\n",
        "      super().__init__()\n",
        "\n",
        "      dimensions = {}\n",
        "      dimensions['Layer 1'] = 512\n",
        "      dimensions['Layer 2'] = 256\n",
        "      dimensions['Layer 3'] = 128\n",
        "      dimensions['Layer 4'] = 64\n",
        "      dimensions['Layer 5'] = 32  \n",
        "      dimensions['Layer 6'] = 10 # number of classes in CIFAR 10 data\n",
        "\n",
        "      self.l1 = nn.Linear(32*32*3, dimensions['Layer 1'])\n",
        "      self.l2 = nn.Linear(dimensions['Layer 1'], dimensions['Layer 2'])\n",
        "      self.l3 = nn.Linear(dimensions['Layer 2'], dimensions['Layer 3'])        \n",
        "      self.l4 = nn.Linear(dimensions['Layer 3'], dimensions['Layer 4'])\n",
        "      self.l5 = nn.Linear(dimensions['Layer 4'], dimensions['Layer 5'])\n",
        "      self.l6 = nn.Linear(dimensions['Layer 5'], dimensions['Layer 6'])\n",
        "      \n",
        "      self.skip_input_3 = nn.Linear(32*32*3, dimensions['Layer 3'])\n",
        "      self.skip_1_4 = nn.Linear(dimensions['Layer 1'], dimensions['Layer 4'])\n",
        "      self.skip_2_5 = nn.Linear(dimensions['Layer 2'], dimensions['Layer 5'])\n",
        "      self.skip_3_6 = nn.Linear(dimensions['Layer 3'], dimensions['Layer 6'])\n",
        "      \n",
        "      self.bn1 = nn.BatchNorm1d(dimensions['Layer 1'])\n",
        "      self.bn2 = nn.BatchNorm1d(dimensions['Layer 2'])\n",
        "      self.bn3 = nn.BatchNorm1d(dimensions['Layer 3'])\n",
        "      self.bn4 = nn.BatchNorm1d(dimensions['Layer 4'])\n",
        "      self.bn5 = nn.BatchNorm1d(dimensions['Layer 5'])\n",
        "\n",
        "  def forward(self, x):\n",
        "      x0 = torch.flatten(x, 1) # flatten all dims except batch\n",
        "      x1 = F.relu(self.bn1(self.l1(x0)))\n",
        "      x2 = F.relu(self.bn2(self.l2(x1)))\n",
        "      x3 = F.relu(self.bn3(self.l3(x2) + self.skip_input_3(x0)))\n",
        "      x4 = F.relu(self.bn4(self.l4(x3) + self.skip_1_4(x1)))\n",
        "      x5 = F.relu(self.bn5(self.l5(x4) + self.skip_2_5(x2)))\n",
        "      x6 = self.l6(x5) + self.skip_3_6(x3)\n",
        "      return x6\n",
        "\n",
        "dictinct_source_skip_2_model_cifar10 = distinct_source_skip_net_2_cifar10().to(device)"
      ],
      "execution_count": null,
      "outputs": []
    },
    {
      "cell_type": "markdown",
      "metadata": {
        "id": "wk8l13lFaGmx"
      },
      "source": [
        "##**Defining a Shared-Source Skip Connection Neural Network**"
      ]
    },
    {
      "cell_type": "code",
      "metadata": {
        "id": "3edIwV-9aLZ7"
      },
      "source": [
        "class shared_source_skip_net_cifar10(nn.Module):\n",
        "\n",
        "  def __init__(self):\n",
        "      super().__init__()\n",
        "\n",
        "      dimensions = {}\n",
        "      dimensions['Layer 1'] = 512\n",
        "      dimensions['Layer 2'] = 256\n",
        "      dimensions['Layer 3'] = 128\n",
        "      dimensions['Layer 4'] = 64\n",
        "      dimensions['Layer 5'] = 32  \n",
        "      dimensions['Layer 6'] = 10 # number of classes in CIFAR 10 data\n",
        "\n",
        "      self.l1 = nn.Linear(32*32*3, dimensions['Layer 1'])\n",
        "      self.l2 = nn.Linear(dimensions['Layer 1'], dimensions['Layer 2'])\n",
        "      self.l3 = nn.Linear(dimensions['Layer 2'], dimensions['Layer 3'])        \n",
        "      self.l4 = nn.Linear(dimensions['Layer 3'], dimensions['Layer 4'])\n",
        "      self.l5 = nn.Linear(dimensions['Layer 4'], dimensions['Layer 5'])\n",
        "      self.l6 = nn.Linear(dimensions['Layer 5'], dimensions['Layer 6'])\n",
        "\n",
        "      self.skip_input_2 = nn.Linear(32*32*3, dimensions['Layer 2'])\n",
        "      self.skip_input_3 = nn.Linear(32*32*3, dimensions['Layer 3'])\n",
        "      self.skip_input_4 = nn.Linear(32*32*3, dimensions['Layer 4'])\n",
        "      self.skip_input_5 = nn.Linear(32*32*3, dimensions['Layer 5'])\n",
        "      self.skip_input_6 = nn.Linear(32*32*3, dimensions['Layer 6'])\n",
        "\n",
        "      self.bn1 = nn.BatchNorm1d(dimensions['Layer 1'])\n",
        "      self.bn2 = nn.BatchNorm1d(dimensions['Layer 2'])\n",
        "      self.bn3 = nn.BatchNorm1d(dimensions['Layer 3'])\n",
        "      self.bn4 = nn.BatchNorm1d(dimensions['Layer 4'])\n",
        "      self.bn5 = nn.BatchNorm1d(dimensions['Layer 5'])\n",
        "\n",
        "  def forward(self, x):\n",
        "      x0 = torch.flatten(x, 1) # flatten all dims except batch\n",
        "      x1 = F.relu(self.bn1(self.l1(x0)))\n",
        "      x2 = F.relu(self.bn2(self.l2(x1) + self.skip_input_2(x0)))\n",
        "      x3 = F.relu(self.bn3(self.l3(x2) + self.skip_input_3(x0)))\n",
        "      x4 = F.relu(self.bn4(self.l4(x3) + self.skip_input_4(x0)))\n",
        "      x5 = F.relu(self.bn5(self.l5(x4) + self.skip_input_5(x0)))\n",
        "      x6 = self.l6(x5) + self.skip_input_6(x0)\n",
        "      return x6\n",
        "\n",
        "shared_source_skip_model_cifar10 = shared_source_skip_net_cifar10().to(device)"
      ],
      "execution_count": null,
      "outputs": []
    },
    {
      "cell_type": "markdown",
      "metadata": {
        "id": "bWDBn82Fblpg"
      },
      "source": [
        "##**Defining a Dense Skip Connection Neural Network**"
      ]
    },
    {
      "cell_type": "code",
      "metadata": {
        "id": "l_IQZxtrbq34"
      },
      "source": [
        "class dense_skip_net_cifar10(nn.Module):\n",
        "\n",
        "  def __init__(self):\n",
        "      super().__init__()\n",
        "\n",
        "      dimensions = {}\n",
        "      dimensions['Layer 1'] = 512\n",
        "      dimensions['Layer 2'] = 256\n",
        "      dimensions['Layer 3'] = 128\n",
        "      dimensions['Layer 4'] = 64\n",
        "      dimensions['Layer 5'] = 32  \n",
        "      dimensions['Layer 6'] = 10 # number of classes in CIFAR 10 data\n",
        "\n",
        "      self.l1 = nn.Linear(32*32*3, dimensions['Layer 1'])\n",
        "      self.l2 = nn.Linear(dimensions['Layer 1'], dimensions['Layer 2'])\n",
        "      self.l3 = nn.Linear(dimensions['Layer 2'], dimensions['Layer 3'])        \n",
        "      self.l4 = nn.Linear(dimensions['Layer 3'], dimensions['Layer 4'])\n",
        "      self.l5 = nn.Linear(dimensions['Layer 4'], dimensions['Layer 5'])\n",
        "      self.l6 = nn.Linear(dimensions['Layer 5'], dimensions['Layer 6'])\n",
        "\n",
        "      # from input\n",
        "      self.skip_input_2 = nn.Linear(32*32*3, dimensions['Layer 2'])\n",
        "      self.skip_input_3 = nn.Linear(32*32*3, dimensions['Layer 3'])\n",
        "      self.skip_input_4 = nn.Linear(32*32*3, dimensions['Layer 4'])\n",
        "      self.skip_input_5 = nn.Linear(32*32*3, dimensions['Layer 5'])\n",
        "      self.skip_input_6 = nn.Linear(32*32*3, dimensions['Layer 6'])\n",
        "\n",
        "      # from layer 1\n",
        "      self.skip_1_3 = nn.Linear(dimensions['Layer 1'], dimensions['Layer 3'])\n",
        "      self.skip_1_4 = nn.Linear(dimensions['Layer 1'], dimensions['Layer 4'])\n",
        "      self.skip_1_5 = nn.Linear(dimensions['Layer 1'], dimensions['Layer 5'])\n",
        "      self.skip_1_6 = nn.Linear(dimensions['Layer 1'], dimensions['Layer 6'])\n",
        "      \n",
        "      # from layer 2\n",
        "      self.skip_2_4 = nn.Linear(dimensions['Layer 2'], dimensions['Layer 4'])\n",
        "      self.skip_2_5 = nn.Linear(dimensions['Layer 2'], dimensions['Layer 5'])\n",
        "      self.skip_2_6 = nn.Linear(dimensions['Layer 2'], dimensions['Layer 6'])\n",
        "\n",
        "      # from layer 3\n",
        "      self.skip_3_5 = nn.Linear(dimensions['Layer 3'], dimensions['Layer 5'])\n",
        "      self.skip_3_6 = nn.Linear(dimensions['Layer 3'], dimensions['Layer 6'])\n",
        "\n",
        "      # from layer 4\n",
        "      self.skip_4_6 = nn.Linear(dimensions['Layer 4'], dimensions['Layer 6'])\n",
        "\n",
        "      self.bn1 = nn.BatchNorm1d(dimensions['Layer 1'])\n",
        "      self.bn2 = nn.BatchNorm1d(dimensions['Layer 2'])\n",
        "      self.bn3 = nn.BatchNorm1d(dimensions['Layer 3'])\n",
        "      self.bn4 = nn.BatchNorm1d(dimensions['Layer 4'])\n",
        "      self.bn5 = nn.BatchNorm1d(dimensions['Layer 5'])\n",
        "\n",
        "  def forward(self, x):\n",
        "      x0 = torch.flatten(x, 1) # flatten all dims except batch\n",
        "      x1 = F.relu(self.bn1(self.l1(x0)))\n",
        "      x2 = F.relu(self.bn2(self.l2(x1) + self.skip_input_2(x0)))\n",
        "      x3 = F.relu(self.bn3(self.l3(x2) + self.skip_input_3(x0) + self.skip_1_3(x1)))\n",
        "      x4 = F.relu(self.bn4(self.l4(x3) + self.skip_input_4(x0) + self.skip_1_4(x1) + self.skip_2_4(x2)))\n",
        "      x5 = F.relu(self.bn5(self.l5(x4) + self.skip_input_5(x0) + self.skip_1_5(x1) + self.skip_2_5(x2) + self.skip_3_5(x3)))\n",
        "      x6 = self.l6(x5) + self.skip_input_6(x0) + self.skip_1_6(x1) + self.skip_2_6(x2) + self.skip_3_6(x3) + self.skip_4_6(x4)\n",
        "      return x6\n",
        "\n",
        "dense_skip_model_cifar10 = dense_skip_net_cifar10().to(device)"
      ],
      "execution_count": null,
      "outputs": []
    },
    {
      "cell_type": "markdown",
      "metadata": {
        "id": "mk4lCuujdi5A"
      },
      "source": [
        "##**Training the Models**"
      ]
    },
    {
      "cell_type": "markdown",
      "metadata": {
        "id": "-mNMAaaKe7nn"
      },
      "source": [
        "**Defining the Training Function**"
      ]
    },
    {
      "cell_type": "code",
      "metadata": {
        "id": "jS_o2_3Mdjdb"
      },
      "source": [
        "def train_cifar10(model):\n",
        "\n",
        "  # defining the optimizer\n",
        "  optimizer = optim.Adam(model.parameters(), lr=lr)\n",
        "  best_model = model\n",
        "  min_valid_loss = math.inf\n",
        "  training_loss_list = []\n",
        "  validation_loss_list = []\n",
        "\n",
        "  for epoch in range(epochs_cifar10):\n",
        "    running_loss = 0.0\n",
        "    train_loss = 0.0\n",
        "    epoch_steps = 0\n",
        "\n",
        "    for i, data in enumerate(trainloader_cifar10, 0):\n",
        "          \n",
        "          inputs, labels = data\n",
        "          inputs, labels = inputs.to(device), labels.to(device)\n",
        "\n",
        "          # zero the parameter gradients\n",
        "          optimizer.zero_grad()\n",
        "\n",
        "          # forward + backward + optimize\n",
        "          outputs = model(inputs)\n",
        "          loss = criterion(outputs, labels)\n",
        "          loss.backward()\n",
        "          optimizer.step()\n",
        "\n",
        "          # print statistics\n",
        "          running_loss += loss.item()\n",
        "          train_loss += loss.item()\n",
        "          epoch_steps += 1\n",
        "          if i % 500 == 499:  # print every 500 mini-batches\n",
        "              print(\"[%d, %5d] loss: %.3f\" % (epoch + 1, i + 1,\n",
        "                                              running_loss / epoch_steps))\n",
        "              running_loss = 0.0\n",
        "  \n",
        "    val_loss = 0.0\n",
        "    val_steps = 0\n",
        "    total = 0\n",
        "    correct = 0\n",
        "\n",
        "    # finding the generalization error\n",
        "    for i, data in enumerate(validloader_cifar10, 0):\n",
        "        with torch.no_grad():\n",
        "            inputs, labels = data\n",
        "            inputs, labels = inputs.to(device), labels.to(device)\n",
        "\n",
        "            outputs = model(inputs)\n",
        "            _, predicted = torch.max(outputs.data, 1)\n",
        "            total += labels.size(0)\n",
        "            correct += (predicted == labels).sum().item()\n",
        "\n",
        "            loss = criterion(outputs, labels)\n",
        "            val_loss += loss.cpu().numpy()\n",
        "            val_steps += 1\n",
        "\n",
        "    # to get the model with the least generalization error\n",
        "    if (val_loss <= min_valid_loss):\n",
        "      best_model = model\n",
        "      min_valid_loss = val_loss\n",
        "\n",
        "    training_loss_list.append(train_loss/len(trainloader_cifar10))\n",
        "    validation_loss_list.append(val_loss/len(validloader_cifar10))\n",
        "\n",
        "    print(f\"Epoch {epoch+1} training loss = {train_loss/len(trainloader_cifar10):.2f} validation loss: {val_loss/len(validloader_cifar10):.2f}\")\n",
        "\n",
        "  model = best_model\n",
        "\n",
        "  # plotting the training process\n",
        "  plt.plot(training_loss_list, 'r', label = 'Training Loss')\n",
        "  plt.plot(validation_loss_list, 'g', label = 'Validation Loss')\n",
        "  plt.legend()\n",
        "  plt.show()"
      ],
      "execution_count": null,
      "outputs": []
    },
    {
      "cell_type": "markdown",
      "metadata": {
        "id": "tCvBND_CfU0X"
      },
      "source": [
        "**Training vanilla_model_cifar10**"
      ]
    },
    {
      "cell_type": "code",
      "metadata": {
        "colab": {
          "base_uri": "https://localhost:8080/",
          "height": 769
        },
        "id": "5szC8pq_fU0Y",
        "outputId": "794f5cd5-6362-4bef-b7f5-0daa3427913f"
      },
      "source": [
        "train_cifar10(vanilla_model_cifar10)"
      ],
      "execution_count": null,
      "outputs": [
        {
          "output_type": "stream",
          "name": "stdout",
          "text": [
            "[1,   500] loss: 1.772\n",
            "Epoch 1 training loss = 1.74 validation loss: 1.57\n",
            "[2,   500] loss: 1.506\n",
            "Epoch 2 training loss = 1.50 validation loss: 1.48\n",
            "[3,   500] loss: 1.389\n",
            "Epoch 3 training loss = 1.38 validation loss: 1.44\n",
            "[4,   500] loss: 1.298\n",
            "Epoch 4 training loss = 1.30 validation loss: 1.41\n",
            "[5,   500] loss: 1.221\n",
            "Epoch 5 training loss = 1.23 validation loss: 1.38\n",
            "[6,   500] loss: 1.158\n",
            "Epoch 6 training loss = 1.16 validation loss: 1.39\n",
            "[7,   500] loss: 1.094\n",
            "Epoch 7 training loss = 1.10 validation loss: 1.40\n",
            "[8,   500] loss: 1.032\n",
            "Epoch 8 training loss = 1.04 validation loss: 1.39\n",
            "[9,   500] loss: 0.970\n",
            "Epoch 9 training loss = 0.97 validation loss: 1.41\n",
            "[10,   500] loss: 0.908\n",
            "Epoch 10 training loss = 0.92 validation loss: 1.43\n",
            "[11,   500] loss: 0.868\n",
            "Epoch 11 training loss = 0.87 validation loss: 1.43\n",
            "[12,   500] loss: 0.806\n",
            "Epoch 12 training loss = 0.81 validation loss: 1.47\n",
            "[13,   500] loss: 0.754\n",
            "Epoch 13 training loss = 0.76 validation loss: 1.51\n",
            "[14,   500] loss: 0.714\n",
            "Epoch 14 training loss = 0.72 validation loss: 1.53\n",
            "[15,   500] loss: 0.666\n",
            "Epoch 15 training loss = 0.67 validation loss: 1.61\n"
          ]
        },
        {
          "output_type": "display_data",
          "data": {
            "image/png": "[encoded data removed]",
            "text/plain": [
              "<Figure size 432x288 with 1 Axes>"
            ]
          },
          "metadata": {
            "needs_background": "light"
          }
        }
      ]
    },
    {
      "cell_type": "markdown",
      "metadata": {
        "id": "FokxQj1OfU0Z"
      },
      "source": [
        "**Training dictinct_source_skip_1_model_cifar10**"
      ]
    },
    {
      "cell_type": "code",
      "metadata": {
        "colab": {
          "base_uri": "https://localhost:8080/",
          "height": 769
        },
        "id": "4lOBMyw-fU0a",
        "outputId": "11dc9db8-423c-4309-f63b-f4cff040486e"
      },
      "source": [
        "train_cifar10(dictinct_source_skip_1_model_cifar10)"
      ],
      "execution_count": null,
      "outputs": [
        {
          "output_type": "stream",
          "name": "stdout",
          "text": [
            "[1,   500] loss: 1.682\n",
            "Epoch 1 training loss = 1.65 validation loss: 1.52\n",
            "[2,   500] loss: 1.431\n",
            "Epoch 2 training loss = 1.43 validation loss: 1.45\n",
            "[3,   500] loss: 1.323\n",
            "Epoch 3 training loss = 1.32 validation loss: 1.41\n",
            "[4,   500] loss: 1.229\n",
            "Epoch 4 training loss = 1.23 validation loss: 1.38\n",
            "[5,   500] loss: 1.148\n",
            "Epoch 5 training loss = 1.16 validation loss: 1.36\n",
            "[6,   500] loss: 1.082\n",
            "Epoch 6 training loss = 1.08 validation loss: 1.35\n",
            "[7,   500] loss: 1.008\n",
            "Epoch 7 training loss = 1.01 validation loss: 1.39\n",
            "[8,   500] loss: 0.939\n",
            "Epoch 8 training loss = 0.95 validation loss: 1.38\n",
            "[9,   500] loss: 0.871\n",
            "Epoch 9 training loss = 0.88 validation loss: 1.41\n",
            "[10,   500] loss: 0.806\n",
            "Epoch 10 training loss = 0.82 validation loss: 1.45\n",
            "[11,   500] loss: 0.746\n",
            "Epoch 11 training loss = 0.76 validation loss: 1.48\n",
            "[12,   500] loss: 0.682\n",
            "Epoch 12 training loss = 0.69 validation loss: 1.53\n",
            "[13,   500] loss: 0.626\n",
            "Epoch 13 training loss = 0.64 validation loss: 1.57\n",
            "[14,   500] loss: 0.564\n",
            "Epoch 14 training loss = 0.57 validation loss: 1.68\n",
            "[15,   500] loss: 0.524\n",
            "Epoch 15 training loss = 0.53 validation loss: 1.73\n"
          ]
        },
        {
          "output_type": "display_data",
          "data": {
            "image/png": "[encoded data removed]",
            "text/plain": [
              "<Figure size 432x288 with 1 Axes>"
            ]
          },
          "metadata": {
            "needs_background": "light"
          }
        }
      ]
    },
    {
      "cell_type": "markdown",
      "metadata": {
        "id": "Imj6MBeyfU0a"
      },
      "source": [
        "**Training dictinct_source_skip_2_model_cifar10**"
      ]
    },
    {
      "cell_type": "code",
      "metadata": {
        "colab": {
          "base_uri": "https://localhost:8080/",
          "height": 771
        },
        "id": "mnR3_s5ZfU0b",
        "outputId": "72ffc92a-5b6a-404e-b1dc-4e261582f4f4"
      },
      "source": [
        "train_cifar10(dictinct_source_skip_2_model_cifar10)"
      ],
      "execution_count": null,
      "outputs": [
        {
          "output_type": "stream",
          "name": "stdout",
          "text": [
            "[1,   500] loss: 1.674\n",
            "Epoch 1 training loss = 1.64 validation loss: 1.53\n",
            "[2,   500] loss: 1.428\n",
            "Epoch 2 training loss = 1.43 validation loss: 1.44\n",
            "[3,   500] loss: 1.312\n",
            "Epoch 3 training loss = 1.31 validation loss: 1.42\n",
            "[4,   500] loss: 1.226\n",
            "Epoch 4 training loss = 1.23 validation loss: 1.38\n",
            "[5,   500] loss: 1.149\n",
            "Epoch 5 training loss = 1.15 validation loss: 1.37\n",
            "[6,   500] loss: 1.067\n",
            "Epoch 6 training loss = 1.08 validation loss: 1.36\n",
            "[7,   500] loss: 1.006\n",
            "Epoch 7 training loss = 1.01 validation loss: 1.38\n",
            "[8,   500] loss: 0.935\n",
            "Epoch 8 training loss = 0.94 validation loss: 1.38\n",
            "[9,   500] loss: 0.866\n",
            "Epoch 9 training loss = 0.87 validation loss: 1.42\n",
            "[10,   500] loss: 0.799\n",
            "Epoch 10 training loss = 0.81 validation loss: 1.45\n",
            "[11,   500] loss: 0.728\n",
            "Epoch 11 training loss = 0.74 validation loss: 1.51\n",
            "[12,   500] loss: 0.661\n",
            "Epoch 12 training loss = 0.68 validation loss: 1.53\n",
            "[13,   500] loss: 0.607\n",
            "Epoch 13 training loss = 0.62 validation loss: 1.58\n",
            "[14,   500] loss: 0.555\n",
            "Epoch 14 training loss = 0.57 validation loss: 1.67\n",
            "[15,   500] loss: 0.501\n",
            "Epoch 15 training loss = 0.51 validation loss: 1.75\n"
          ]
        },
        {
          "output_type": "display_data",
          "data": {
            "image/png": "[encoded data removed]",
            "text/plain": [
              "<Figure size 432x288 with 1 Axes>"
            ]
          },
          "metadata": {
            "needs_background": "light"
          }
        }
      ]
    },
    {
      "cell_type": "markdown",
      "metadata": {
        "id": "hW3TqyjCfU0d"
      },
      "source": [
        "**Training shared_source_skip_model_cifar10**"
      ]
    },
    {
      "cell_type": "code",
      "metadata": {
        "id": "ivgusJAJfU0g",
        "colab": {
          "base_uri": "https://localhost:8080/",
          "height": 769
        },
        "outputId": "7564416d-14af-459e-bd8e-daa58d37852c"
      },
      "source": [
        "train_cifar10(shared_source_skip_model_cifar10)"
      ],
      "execution_count": null,
      "outputs": [
        {
          "output_type": "stream",
          "name": "stdout",
          "text": [
            "[1,   500] loss: 1.835\n",
            "Epoch 1 training loss = 1.81 validation loss: 1.64\n",
            "[2,   500] loss: 1.622\n",
            "Epoch 2 training loss = 1.61 validation loss: 1.65\n",
            "[3,   500] loss: 1.525\n",
            "Epoch 3 training loss = 1.52 validation loss: 1.57\n",
            "[4,   500] loss: 1.439\n",
            "Epoch 4 training loss = 1.44 validation loss: 1.49\n",
            "[5,   500] loss: 1.361\n",
            "Epoch 5 training loss = 1.37 validation loss: 1.49\n",
            "[6,   500] loss: 1.333\n",
            "Epoch 6 training loss = 1.33 validation loss: 1.57\n",
            "[7,   500] loss: 1.273\n",
            "Epoch 7 training loss = 1.28 validation loss: 1.51\n",
            "[8,   500] loss: 1.213\n",
            "Epoch 8 training loss = 1.22 validation loss: 1.55\n",
            "[9,   500] loss: 1.188\n",
            "Epoch 9 training loss = 1.19 validation loss: 1.49\n",
            "[10,   500] loss: 1.139\n",
            "Epoch 10 training loss = 1.14 validation loss: 1.52\n",
            "[11,   500] loss: 1.093\n",
            "Epoch 11 training loss = 1.10 validation loss: 1.55\n",
            "[12,   500] loss: 1.032\n",
            "Epoch 12 training loss = 1.04 validation loss: 1.56\n",
            "[13,   500] loss: 0.993\n",
            "Epoch 13 training loss = 1.00 validation loss: 1.55\n",
            "[14,   500] loss: 0.944\n",
            "Epoch 14 training loss = 0.96 validation loss: 1.61\n",
            "[15,   500] loss: 0.894\n",
            "Epoch 15 training loss = 0.91 validation loss: 1.62\n"
          ]
        },
        {
          "output_type": "display_data",
          "data": {
            "image/png": "[encoded data removed]",
            "text/plain": [
              "<Figure size 432x288 with 1 Axes>"
            ]
          },
          "metadata": {
            "needs_background": "light"
          }
        }
      ]
    },
    {
      "cell_type": "markdown",
      "metadata": {
        "id": "aFkbjJUkfU0h"
      },
      "source": [
        "**Training dense_skip_model_cifar10**"
      ]
    },
    {
      "cell_type": "code",
      "metadata": {
        "colab": {
          "base_uri": "https://localhost:8080/",
          "height": 769
        },
        "id": "MNThPNzzfU0h",
        "outputId": "8b00879f-c45a-49d0-d57a-690be0f623d5"
      },
      "source": [
        "train_cifar10(dense_skip_model_cifar10)"
      ],
      "execution_count": null,
      "outputs": [
        {
          "output_type": "stream",
          "name": "stdout",
          "text": [
            "[1,   500] loss: 1.812\n",
            "Epoch 1 training loss = 1.79 validation loss: 1.69\n",
            "[2,   500] loss: 1.571\n",
            "Epoch 2 training loss = 1.56 validation loss: 1.52\n",
            "[3,   500] loss: 1.450\n",
            "Epoch 3 training loss = 1.45 validation loss: 1.62\n",
            "[4,   500] loss: 1.363\n",
            "Epoch 4 training loss = 1.37 validation loss: 1.51\n",
            "[5,   500] loss: 1.297\n",
            "Epoch 5 training loss = 1.29 validation loss: 1.49\n",
            "[6,   500] loss: 1.223\n",
            "Epoch 6 training loss = 1.23 validation loss: 1.51\n",
            "[7,   500] loss: 1.142\n",
            "Epoch 7 training loss = 1.15 validation loss: 1.48\n",
            "[8,   500] loss: 1.082\n",
            "Epoch 8 training loss = 1.09 validation loss: 1.46\n",
            "[9,   500] loss: 1.031\n",
            "Epoch 9 training loss = 1.04 validation loss: 1.47\n",
            "[10,   500] loss: 0.954\n",
            "Epoch 10 training loss = 0.96 validation loss: 1.51\n",
            "[11,   500] loss: 0.892\n",
            "Epoch 11 training loss = 0.91 validation loss: 1.66\n",
            "[12,   500] loss: 0.837\n",
            "Epoch 12 training loss = 0.84 validation loss: 1.71\n",
            "[13,   500] loss: 0.786\n",
            "Epoch 13 training loss = 0.79 validation loss: 1.73\n",
            "[14,   500] loss: 0.707\n",
            "Epoch 14 training loss = 0.72 validation loss: 1.79\n",
            "[15,   500] loss: 0.656\n",
            "Epoch 15 training loss = 0.66 validation loss: 1.79\n"
          ]
        },
        {
          "output_type": "display_data",
          "data": {
            "image/png": "[encoded data removed]",
            "text/plain": [
              "<Figure size 432x288 with 1 Axes>"
            ]
          },
          "metadata": {
            "needs_background": "light"
          }
        }
      ]
    },
    {
      "cell_type": "markdown",
      "metadata": {
        "id": "_Lf1_Mn1gIJP"
      },
      "source": [
        "##**Testing the Models**"
      ]
    },
    {
      "cell_type": "markdown",
      "metadata": {
        "id": "251BD1OegIJQ"
      },
      "source": [
        "**Defining the Test Function**"
      ]
    },
    {
      "cell_type": "code",
      "metadata": {
        "id": "iSn7x9GggIJR"
      },
      "source": [
        "def test_cifar10(model):\n",
        "  model.eval()\n",
        "\n",
        "  total = 0\n",
        "  correct = 0\n",
        "  val_loss = 0.0\n",
        "  val_steps = 0\n",
        "  for inputs, labels in testloader_cifar10:\n",
        "    with torch.no_grad():\n",
        "      if torch.cuda.is_available():\n",
        "        inputs, labels = inputs.cuda(), labels.cuda()\n",
        "\n",
        "        outputs = model(inputs)\n",
        "        _, predicted = torch.max(outputs.data, 1)\n",
        "        total += labels.size(0)\n",
        "        correct += (predicted == labels).sum().item()\n",
        "\n",
        "        loss = criterion(outputs, labels)\n",
        "        val_loss += loss.item()\n",
        "        val_steps += 1\n",
        "  print(\"Accuracy = \", correct/total)"
      ],
      "execution_count": null,
      "outputs": []
    },
    {
      "cell_type": "markdown",
      "metadata": {
        "id": "AOarG0BhgVKK"
      },
      "source": [
        "**Testing vanilla_model_cifar10**"
      ]
    },
    {
      "cell_type": "code",
      "metadata": {
        "colab": {
          "base_uri": "https://localhost:8080/"
        },
        "id": "unFk9txhgVKL",
        "outputId": "f5ffc3ca-42c8-4adf-d084-1b654a91966f"
      },
      "source": [
        "test_cifar10(vanilla_model_cifar10)"
      ],
      "execution_count": null,
      "outputs": [
        {
          "output_type": "stream",
          "name": "stdout",
          "text": [
            "Accuracy =  0.544\n"
          ]
        }
      ]
    },
    {
      "cell_type": "markdown",
      "metadata": {
        "id": "5oxAtSGYgVKM"
      },
      "source": [
        "**Testing dictinct_source_skip_1_model_cifar10**"
      ]
    },
    {
      "cell_type": "code",
      "metadata": {
        "colab": {
          "base_uri": "https://localhost:8080/"
        },
        "id": "8sS_zN1ygVKM",
        "outputId": "9f1d575b-1d71-4073-9e18-aa9a2e0fd576"
      },
      "source": [
        "test_cifar10(dictinct_source_skip_1_model_cifar10)"
      ],
      "execution_count": null,
      "outputs": [
        {
          "output_type": "stream",
          "name": "stdout",
          "text": [
            "Accuracy =  0.546\n"
          ]
        }
      ]
    },
    {
      "cell_type": "markdown",
      "metadata": {
        "id": "paPacZ-FgVKM"
      },
      "source": [
        "**Testing dictinct_source_skip_2_model_cifar10**"
      ]
    },
    {
      "cell_type": "code",
      "metadata": {
        "colab": {
          "base_uri": "https://localhost:8080/"
        },
        "id": "30XAaCwHgVKN",
        "outputId": "ccf58d26-f2fa-4651-fb4e-7d7a3883e028"
      },
      "source": [
        "test_cifar10(dictinct_source_skip_2_model_cifar10)"
      ],
      "execution_count": null,
      "outputs": [
        {
          "output_type": "stream",
          "name": "stdout",
          "text": [
            "Accuracy =  0.5461\n"
          ]
        }
      ]
    },
    {
      "cell_type": "markdown",
      "metadata": {
        "id": "ycr7EiCNgVKN"
      },
      "source": [
        "**Testing shared_source_skip_model_cifar10**"
      ]
    },
    {
      "cell_type": "code",
      "metadata": {
        "id": "7DR4eTqdgVKN",
        "colab": {
          "base_uri": "https://localhost:8080/"
        },
        "outputId": "69fd123b-1ee1-491b-a2cc-5979f409ff56"
      },
      "source": [
        "test_cifar10(shared_source_skip_model_cifar10)"
      ],
      "execution_count": null,
      "outputs": [
        {
          "output_type": "stream",
          "name": "stdout",
          "text": [
            "Accuracy =  0.5057\n"
          ]
        }
      ]
    },
    {
      "cell_type": "markdown",
      "metadata": {
        "id": "5OijFyP5gVKO"
      },
      "source": [
        "**Testing dense_skip_model_cifar10**"
      ]
    },
    {
      "cell_type": "code",
      "metadata": {
        "colab": {
          "base_uri": "https://localhost:8080/"
        },
        "id": "esGsCefNgVKO",
        "outputId": "e7065da0-819b-449e-a198-9e2b1da272aa"
      },
      "source": [
        "test_cifar10(dense_skip_model_cifar10)"
      ],
      "execution_count": null,
      "outputs": [
        {
          "output_type": "stream",
          "name": "stdout",
          "text": [
            "Accuracy =  0.5257\n"
          ]
        }
      ]
    },
    {
      "cell_type": "markdown",
      "metadata": {
        "id": "HRGbRSf_Rukk"
      },
      "source": [
        "##**Interpreting the Results on CIFAR 10**\n",
        "\n",
        "Similar to what we observed on the MNIST dataset, there isn't any significant increase in the performance of the MLP with skip connections in place. Rather, it seems that skip connections when used along the templates of dense and shared skip nets, worsen the performance of the neural network. The up-side to using distinct-source skip connections also doesn't seem very tempting.\n",
        "\n",
        "Thus, the results seen here again lead us to believe that skip connections do not help further the performance of shallow MLPs on image classification tasks (atleast).\n"
      ]
    },
    {
      "cell_type": "markdown",
      "metadata": {
        "id": "mwJbK8aUS_ON"
      },
      "source": [
        "#**Final Results**\n",
        "\n",
        "**TASKS 1 & 2** : The performance of MLPs with and without skip connections seem similar with not a lot to separate the two. Not only the accuracies, but also the rate of convergence seem alike. Here, are the results observed on the MNIST and CIFAR10 datasets:\n",
        "\n",
        "\n",
        "\n",
        "1.   MNIST :\n",
        "\n",
        "      a. Without skip connections (vanilla net) - **98.14%**\n",
        "\n",
        "      b. Distinct-source skip connections (1 layer skipped) - **98%**\n",
        "\n",
        "      c. Distinct-source skip connections (2 layers skipped) - **98.03%**\n",
        "      \n",
        "      d. Shared-source skip connections - **97.79%**\n",
        "\n",
        "      e. Dense skip connections - **97.78%**\n",
        "\n",
        "\n",
        "2.   CIFAR-10 :\n",
        "\n",
        "      a. Without skip connections (vanilla net) - **54.4%**\n",
        "\n",
        "      b. Distinct-source skip connections (1 layer skipped) - **54.6%**\n",
        "\n",
        "      c. Distinct-source skip connections (2 layers skipped) - **54.61%**\n",
        "      \n",
        "      d. Shared-source skip connections - **50.57%**\n",
        "\n",
        "      e. Dense skip connections - **52.57%**\n",
        "\n",
        "\n",
        "**TASK 3 :** We examined 4 different skip connection networks. In the distinct-source skip connection networks we looked at the results with 1 and 2 layers skipped. The results indicate that a 2 layer skip connection would slightly outperform a single layer skip connection, but nothing too signifcant to come to a conclusion.\n",
        "\n",
        "Shared-source and dense skip connection networks tend to yield results inferior to the other two skip connection nets examined on the MNIST and CIFAR-10 datasets using MLP models.\n",
        "\n",
        "\n",
        "**TASK 4 (Bonus) :** Skip connections are known to allow gradients to flow through a network directly, without passing through non-linear activation functions. Non-linear activation functions, by nature of being non-linear, cause the gradients to explode or vanish (depending on the weights). Especially non-linearities like ReLU which make the gradient 0 if the input is negative, which makes it hard for the model to backpropagate the loss to the early-layers of the model. Thus, skip connections allow us to create extremely deep neural networks without worrying about the problem of vanishing and exploding gradients. \n",
        "\n",
        "However, since in our assignment we dealt with moderately deep MLPs (5 and 6 layer deep models), the effect of skip connections seems inapprarent. Instead, using skip connections like shared-source and dense skip connections, the performance seems to worsen. Probably because so many skip connections seem to confuse the network in establishing relations among the activations of the intermediate layers."
      ]
    }
  ]
}